{
 "cells": [
  {
   "attachments": {},
   "cell_type": "markdown",
   "metadata": {},
   "source": [
    "### [Regular Expression](https://docs.python.org/3/library/re.html)\n",
    "\n",
    "References:\n",
    "- [Scaler Topics](https://www.scaler.com/topics/python/regular-expression-in-python/)\n",
    "- [Ask Python](https://www.askpython.com/python/regular-expression-in-python)"
   ]
  },
  {
   "cell_type": "code",
   "execution_count": 79,
   "metadata": {},
   "outputs": [],
   "source": [
    "import re"
   ]
  },
  {
   "attachments": {},
   "cell_type": "markdown",
   "metadata": {},
   "source": [
    "#### RegEx functions"
   ]
  },
  {
   "attachments": {},
   "cell_type": "markdown",
   "metadata": {},
   "source": [
    "##### 1. Searching for a pattern\n",
    "- The re.search() function is used to search for a pattern within a string.\n",
    "- In case of more than one match, the first occurrence of the match is returned."
   ]
  },
  {
   "cell_type": "code",
   "execution_count": 110,
   "metadata": {},
   "outputs": [
    {
     "name": "stdout",
     "output_type": "stream",
     "text": [
      "String found at:  (0, 2)\n"
     ]
    }
   ],
   "source": [
    "# Searching for a pattern:\n",
    "\n",
    "string = \"at what time?\"\n",
    "pattern = r'at'\n",
    "\n",
    "match = re.search(pattern,string)\n",
    "\n",
    "if (match):\n",
    "    print (\"String found at: \" ,match.span())\n",
    "else:\n",
    "    print (\"String not found!\")"
   ]
  },
  {
   "cell_type": "code",
   "execution_count": 126,
   "metadata": {},
   "outputs": [
    {
     "name": "stdout",
     "output_type": "stream",
     "text": [
      "<re.Match object; span=(6, 11), match='World'>\n"
     ]
    }
   ],
   "source": [
    "# Pattern modifiers:\n",
    "\n",
    "# You can use modifiers to modify the behavior of regular expressions, such as ignoring case or enabling multiline mode. Modifiers are specified as flags in the regex pattern. For example:\n",
    "\n",
    "text = \"Kira, World\"\n",
    "pattern = r\"world\"\n",
    "match = re.search(pattern, text, re.IGNORECASE)\n",
    "print(match)"
   ]
  },
  {
   "attachments": {},
   "cell_type": "markdown",
   "metadata": {},
   "source": [
    "##### 2. Finding all occurrences\n",
    "- The `re.findall()` function is used to find all occurrences of a pattern in a string and returns them as a list."
   ]
  },
  {
   "cell_type": "code",
   "execution_count": 97,
   "metadata": {},
   "outputs": [
    {
     "name": "stdout",
     "output_type": "stream",
     "text": [
      "['Hello', 'Hello']\n"
     ]
    }
   ],
   "source": [
    "# Finding all occurrences:\n",
    "\n",
    "string = \"at what time?\"\n",
    "pattern = r\"at\"\n",
    "\n",
    "matches = re.findall(pattern,string)\n",
    "\n",
    "print(matches)"
   ]
  },
  {
   "attachments": {},
   "cell_type": "markdown",
   "metadata": {},
   "source": [
    "##### 3. Splitting a string based on a pattern\n",
    "- The `re.split()` function is used to split a string based on a pattern.\n",
    "- Splits the string at every occurrence of the sub-string."
   ]
  },
  {
   "cell_type": "code",
   "execution_count": 98,
   "metadata": {},
   "outputs": [
    {
     "name": "stdout",
     "output_type": "stream",
     "text": [
      "['', ' wh', ' time?']\n"
     ]
    }
   ],
   "source": [
    "# Splitting a string based on a pattern:\n",
    "\n",
    "string = \"at what time?\"\n",
    "pattern = r\"at\"\n",
    "\n",
    "matches = re.split(pattern,string)\n",
    "\n",
    "print(matches)"
   ]
  },
  {
   "attachments": {},
   "cell_type": "markdown",
   "metadata": {},
   "source": [
    "- You can control the number of occurrences by specifying the maxsplit parameter:"
   ]
  },
  {
   "cell_type": "code",
   "execution_count": 100,
   "metadata": {},
   "outputs": [
    {
     "name": "stdout",
     "output_type": "stream",
     "text": [
      "['', ' what time?']\n"
     ]
    }
   ],
   "source": [
    "\n",
    "string = \"at what time?\"\n",
    "pattern = r\"at\"\n",
    "\n",
    "matches = re.split(pattern,string, 1)\n",
    "\n",
    "print(matches)"
   ]
  },
  {
   "attachments": {},
   "cell_type": "markdown",
   "metadata": {},
   "source": [
    "##### 4. Replacing patterns\n",
    "- The `re.sub()` function is used to replace all occurrences of a pattern in a string with a specified replacement."
   ]
  },
  {
   "cell_type": "code",
   "execution_count": 104,
   "metadata": {},
   "outputs": [
    {
     "name": "stdout",
     "output_type": "stream",
     "text": [
      "at!!!what!!!time?\n"
     ]
    }
   ],
   "source": [
    "# Replacing patterns:\n",
    "\n",
    "string = \"at what time?\"\n",
    "pattern = r\"\\s\"\n",
    "replacement = r'!!!'\n",
    "\n",
    "new_text = re.sub(pattern, replacement, string)\n",
    "\n",
    "print(new_text)"
   ]
  },
  {
   "attachments": {},
   "cell_type": "markdown",
   "metadata": {},
   "source": [
    "##### 5. Matching patterns \n",
    "- The `re.match()` function is used to match a pattern at the beginning of a string."
   ]
  },
  {
   "cell_type": "code",
   "execution_count": 120,
   "metadata": {},
   "outputs": [
    {
     "name": "stdout",
     "output_type": "stream",
     "text": [
      "Pattern not found.\n"
     ]
    }
   ],
   "source": [
    "# Matching patterns:\n",
    "\n",
    "string = \"at what time?\"\n",
    "pattern = r\"what\"\n",
    "\n",
    "match = re.match(pattern, string)\n",
    "\n",
    "if match:\n",
    "    print(\"Pattern found!\", match.span())\n",
    "else:\n",
    "    print(\"Pattern not found.\")"
   ]
  },
  {
   "attachments": {},
   "cell_type": "markdown",
   "metadata": {},
   "source": [
    "Difference between `re.search()` and `re.match()`:\n",
    "\n",
    ">`re.search()`:\n",
    ">> - Searches for a pattern anywhere in the input string.\n",
    ">> - Scans the entire input string and stops at the first occurrence of the pattern.\n",
    ">> - Returns a match object if a match is found; otherwise, returns None.\n",
    ">> - Does not require the pattern to match at the beginning of the string.\n",
    "\n",
    ">`re.match()`:\n",
    ">> - Matches a pattern only at the beginning of the input string.\n",
    ">> - Checks if the pattern matches the start of the string.\n",
    ">> - Returns a match object if a match is found at the beginning; otherwise, returns None.\n",
    ">> - Requires the pattern to match at the beginning of the string.\n"
   ]
  },
  {
   "attachments": {},
   "cell_type": "markdown",
   "metadata": {},
   "source": [
    "The attributes and properties of `re.Match` and `re.search` objects one by one. They are as follows:\n",
    "\n",
    "- `match.group()`: This returns the part of the string where the match was there.\n",
    "- `match.start()`: This returns the start position of the matching pattern in the string.\n",
    "- `match.end()`: This returns the end position of the matching pattern in the string.\n",
    "- `match.span()`: This returns a tuple which has start and end positions of matching pattern.\n",
    "- `match.re`: This returns the pattern object used for matching.\n",
    "- `match.string`: This returns the string given for matching.\n",
    "- Using `r` prefix before regex: This is used to convert the pattern to raw string.This means any special character will be treated as normal character. Ex: \\ character will not be treated as an escape character if we use r before the pattern."
   ]
  },
  {
   "cell_type": "code",
   "execution_count": 131,
   "metadata": {},
   "outputs": [
    {
     "name": "stdout",
     "output_type": "stream",
     "text": [
      "Match object = <re.Match object; span=(41, 49), match='computer'>\n",
      "------------------------------------------------------------\n",
      "group method output =  computer\n",
      "------------------------------------------------------------\n",
      "start method output =  41\n",
      "------------------------------------------------------------\n",
      "end method output =  49\n",
      "------------------------------------------------------------\n",
      "span method output =  (41, 49)\n",
      "------------------------------------------------------------\n",
      "re attribute output =  re.compile('computer')\n",
      "------------------------------------------------------------\n",
      "string attribute output =  Alan Turing was a pioneer of theoretical computer science and artificial intelligence. He was born on 23 June 1912 in Maida Vale, London\n",
      "------------------------------------------------------------\n",
      "With r as prefix =  7\n"
     ]
    }
   ],
   "source": [
    "text = '''Alan Turing was a pioneer of theoretical computer science and artificial intelligence. He was born on 23 June 1912 in Maida Vale, London'''\n",
    "\n",
    "pattern = 'computer'\n",
    "\n",
    "# Searches the pattern in the string.\n",
    "res = re.search(pattern, text)\n",
    "print(f\"Match object = {res}\")\n",
    "print(\"--\"*30)\n",
    "print(\"group method output = \",res.group())\n",
    "print(\"--\"*30)\n",
    "print(\"start method output = \",res.start())\n",
    "print(\"--\"*30)\n",
    "print(\"end method output = \",res.end())\n",
    "print(\"--\"*30)\n",
    "print(\"span method output = \",res.span())\n",
    "print(\"--\"*30)\n",
    "print(\"re attribute output = \",res.re)\n",
    "print(\"--\"*30)\n",
    "print(\"string attribute output = \",res.string)\n",
    "print(\"--\"*30)\n",
    "\n",
    "# Example of using r as prefix.\n",
    "# Searching for \\\\ in the following string\n",
    "text = r'search \\\\ in this string'\n",
    "# searching using r as prefix\n",
    "res = re.search(r\"\\\\\",text)\n",
    "print(\"With r as prefix = \",res.start())"
   ]
  },
  {
   "attachments": {},
   "cell_type": "markdown",
   "metadata": {},
   "source": [
    "#### Meta Characters"
   ]
  },
  {
   "cell_type": "code",
   "execution_count": 132,
   "metadata": {},
   "outputs": [
    {
     "name": "stdout",
     "output_type": "stream",
     "text": [
      "Result for \\A =  ['Alan']\n",
      "-------------------------------------------------------------------------------\n",
      "Result for \\b =  ['Lon']\n",
      "-------------------------------------------------------------------------------\n",
      "Result for \\b =  ['ring']\n",
      "-------------------------------------------------------------------------------\n",
      "Result for \\B =  ['on', 'on']\n",
      "-------------------------------------------------------------------------------\n",
      "Result for \\d =  ['2', '3', '1', '9', '1', '2']\n",
      "-------------------------------------------------------------------------------\n",
      "Result for \\D =  ['A', 'l', 'a', 'n', ' ', 'T', 'u', 'r', 'i', 'n', 'g', ' ', 'w', 'a', 's', ' ', 'b', 'o', 'r', 'n', ' ', 'o', 'n', ' ', ' ', 'J', 'u', 'n', 'e', ' ', ' ', 'i', 'n', ' ', 'L', 'o', 'n', 'd', 'o', 'n', '.']\n",
      "-------------------------------------------------------------------------------\n",
      "Result for \\s =  [' ', ' ', ' ', ' ', ' ', ' ', ' ', ' ', ' ']\n",
      "-------------------------------------------------------------------------------\n",
      "Result for \\S =  ['A', 'l', 'a', 'n', 'T', 'u', 'r', 'i', 'n', 'g', 'w', 'a', 's', 'b', 'o', 'r', 'n', 'o', 'n', '2', '3', 'J', 'u', 'n', 'e', '1', '9', '1', '2', 'i', 'n', 'L', 'o', 'n', 'd', 'o', 'n', '.']\n",
      "-------------------------------------------------------------------------------\n",
      "Result for \\w =  ['A', 'l', 'a', 'n', 'T', 'u', 'r', 'i', 'n', 'g', 'w', 'a', 's', 'b', 'o', 'r', 'n', 'o', 'n', '2', '3', 'J', 'u', 'n', 'e', '1', '9', '1', '2', 'i', 'n', 'L', 'o', 'n', 'd', 'o', 'n']\n",
      "-------------------------------------------------------------------------------\n",
      "Result for \\W =  [' ', ' ', ' ', ' ', ' ', ' ', ' ', ' ', ' ', '.']\n",
      "-------------------------------------------------------------------------------\n",
      "Result for \\Z =  ['London.']\n"
     ]
    }
   ],
   "source": [
    "text = '''Alan Turing was born on 23 June 1912 in London.'''\n",
    "# Example for \\A\n",
    "res = re.findall(r'\\AAlan',text)\n",
    "print(r\"Result for \\A = \", res)\n",
    "print(\"-\"*79)\n",
    "# Example for \\b\n",
    "res = re.findall(r'\\bLon',text)\n",
    "print(\"Result for \\\\b = \", res)\n",
    "print(\"-\"*79)\n",
    "# Example for \\b\n",
    "res = re.findall(r'ring\\b',text)\n",
    "print(\"Result for \\\\b = \", res)\n",
    "print(\"-\"*79)\n",
    "# Example for \\B\n",
    "res = re.findall(r'\\Bon',text)\n",
    "print(r\"Result for \\B = \", res)\n",
    "print(\"-\"*79)\n",
    "# Example for \\d\n",
    "res = re.findall(r'\\d',text)\n",
    "print(r\"Result for \\d = \", res)\n",
    "print(\"-\"*79)\n",
    "# Example for \\D\n",
    "res = re.findall(r'\\D',text)\n",
    "print(r\"Result for \\D = \", res)\n",
    "print(\"-\"*79)\n",
    "# Example for \\s\n",
    "res = re.findall(r'\\s',text)\n",
    "print(r\"Result for \\s = \", res)\n",
    "print(\"-\"*79)\n",
    "# Example for \\S\n",
    "res = re.findall(r'\\S',text)\n",
    "print(r\"Result for \\S = \", res)\n",
    "print(\"-\"*79)\n",
    "# Example for \\w\n",
    "res = re.findall(r'\\w',text)\n",
    "print(r\"Result for \\w = \", res)\n",
    "print(\"-\"*79)\n",
    "# Example for \\W\n",
    "res = re.findall(r'\\W',text)\n",
    "print(r\"Result for \\W = \", res)\n",
    "print(\"-\"*79)\n",
    "# Example for \\Z\n",
    "res = re.findall(r'London.\\Z',text)\n",
    "print(r\"Result for \\Z = \", res)\n"
   ]
  },
  {
   "attachments": {},
   "cell_type": "markdown",
   "metadata": {},
   "source": [
    "##### Difference Between [0-9] and [0-9.]\n",
    "    - [0-9] specifies any digit, and [0-9.] represents any digit or a period(.).\n",
    "        To be more clear, [0-9] represents the set {0, 1, 2, 3, 4, 5, 6, 7, 8, 9} and [0-9.] represents the set {0, 1, 2, 3, 4, 5, 6, 7, 8, 9, .}.\n",
    "        That means “1” will match with both [0-9] and [0-9.] but “.” will match only with [0-9.] but not [0-9]."
   ]
  },
  {
   "attachments": {},
   "cell_type": "markdown",
   "metadata": {},
   "source": [
    "##### Why use `r` before string?\n",
    "\n",
    "- It's used to indicate that the string should be treated as a raw string without any special processing of escape sequences.\n",
    "- In regular expressions, backslashes have special meaning as well. They are used to escape metacharacters or to introduce special character classes.\n"
   ]
  },
  {
   "cell_type": "code",
   "execution_count": null,
   "metadata": {},
   "outputs": [],
   "source": [
    "pattern = r\"\\\\[a-zA-Z]\"\n",
    "\n",
    "pattern = \"\\\\\\\\[a-zA-Z]\" # If we don't use `r` prefix \n"
   ]
  }
 ],
 "metadata": {
  "kernelspec": {
   "display_name": ".venv-code",
   "language": "python",
   "name": "python3"
  },
  "language_info": {
   "codemirror_mode": {
    "name": "ipython",
    "version": 3
   },
   "file_extension": ".py",
   "mimetype": "text/x-python",
   "name": "python",
   "nbconvert_exporter": "python",
   "pygments_lexer": "ipython3",
   "version": "3.11.3"
  },
  "orig_nbformat": 4
 },
 "nbformat": 4,
 "nbformat_minor": 2
}

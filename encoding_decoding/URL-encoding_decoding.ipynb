{
 "cells": [
  {
   "attachments": {},
   "cell_type": "markdown",
   "metadata": {},
   "source": [
    "### [URL-encoding_decoding](https://www.url-encode-decode.com/)"
   ]
  },
  {
   "attachments": {},
   "cell_type": "markdown",
   "metadata": {},
   "source": [
    "- To perform URL encoding and decoding using the .encode() and .decode() methods with UTF-8 encoding in Python, you can utilize the `urllib.parse` module.\n",
    "\n",
    "- The unreserved characters can be encoded, but should not be encoded. The unreserved characters are:\n",
    "\n",
    "> `A B C D E F G H I J K L M N O P Q R S T U V W X Y Z a b c d e f g h i j k l m n o p q r s t u v w x y z 0 1 2 3 4 5 6 7 8 9 - _ . ~`\n",
    "\n",
    "- The reserved characters have to be encoded only under certain circumstances. The reserved characters are:\n",
    "> `! * ' ( ) ; : @ & = + $ , / ? % # [ ]`"
   ]
  },
  {
   "cell_type": "code",
   "execution_count": 1,
   "metadata": {},
   "outputs": [
    {
     "name": "stdout",
     "output_type": "stream",
     "text": [
      "Encoded URL: https%3A%2F%2Fwww.example.com%2Fsearch%3Fq%3Dhello%20world\n",
      "Decoded URL: https://www.example.com/search?q=hello world\n"
     ]
    }
   ],
   "source": [
    "import urllib.parse\n",
    "\n",
    "# URL to encode\n",
    "original_url = \"https://www.example.com/search?q=hello world\"\n",
    "\n",
    "# Encoding the URL\n",
    "encoded_url = urllib.parse.quote(original_url, safe='')\n",
    "\n",
    "# Printing the encoded URL\n",
    "print(\"Encoded URL:\", encoded_url)\n",
    "\n",
    "# Decoding the URL\n",
    "decoded_url = urllib.parse.unquote(encoded_url)\n",
    "\n",
    "# Printing the decoded URL\n",
    "print(\"Decoded URL:\", decoded_url)\n"
   ]
  }
 ],
 "metadata": {
  "kernelspec": {
   "display_name": ".venv-code",
   "language": "python",
   "name": "python3"
  },
  "language_info": {
   "codemirror_mode": {
    "name": "ipython",
    "version": 3
   },
   "file_extension": ".py",
   "mimetype": "text/x-python",
   "name": "python",
   "nbconvert_exporter": "python",
   "pygments_lexer": "ipython3",
   "version": "3.11.3"
  },
  "orig_nbformat": 4
 },
 "nbformat": 4,
 "nbformat_minor": 2
}

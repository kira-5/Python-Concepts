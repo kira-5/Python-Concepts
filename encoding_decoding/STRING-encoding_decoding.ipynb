{
 "cells": [
  {
   "attachments": {},
   "cell_type": "markdown",
   "metadata": {},
   "source": [
    "### [STRING-encoding_decoding](https://www.askpython.com/python/string/python-encode-and-decode-functions)\n",
    "\n",
    "References:\n",
    "- [Python decode(): Scaler Topics](https://www.scaler.com/topics/python-decode/)\n",
    "- [Python encode(): Scaler Topics](https://www.scaler.com/topics/encode-in-python/)\n",
    "- [str() in Python: Scaler Topics](https://www.scaler.com/topics/str-in-python/)"
   ]
  },
  {
   "attachments": {},
   "cell_type": "markdown",
   "metadata": {},
   "source": [
    "- The `.decode()` and `.encode()` methods are commonly used when working with string data in Python. \n",
    "- Especially when dealing with character encodings. Here's a breakdown of their differences:\n",
    "\n",
    "> `.decode()`:\n",
    ">> - The .decode() method is used to convert a sequence of bytes into a string.\n",
    ">> - It is typically applied to a bytes object and requires specifying the encoding of the bytes.\n",
    ">> - The method returns a string object.\n",
    "> - Example usage: `string_data = bytes_data.decode(encoding)`\n",
    "\n",
    "\n",
    "> `.encode()`:\n",
    ">> - The .encode() method is used to convert a string into a sequence of bytes.\n",
    ">> - It is applied to a string object and requires specifying the encoding for the resulting bytes.\n",
    ">> - The method returns a bytes object.\n",
    "> - Example usage: `bytes_data = string_data.encode(encoding)`"
   ]
  },
  {
   "cell_type": "code",
   "execution_count": 4,
   "metadata": {},
   "outputs": [
    {
     "name": "stdout",
     "output_type": "stream",
     "text": [
      "Encoded Bytes: b'Hello, world!'\n",
      "Decoded String: Hello, world!\n"
     ]
    }
   ],
   "source": [
    "string_data = 'Hello, world!'  # Bytes object\n",
    "bytes_data = string_data.encode('utf-8')  # Encoding string to bytes\n",
    "\n",
    "print(f\"Encoded Bytes: {bytes_data}\")  # Output: b'Hello, world!'\n",
    "\n",
    "new_string_data = bytes_data.decode()    # Decoding bytes to string\n",
    "\n",
    "print(f\"Decoded String: {new_string_data}\")   # Output: Hello, world!"
   ]
  },
  {
   "attachments": {},
   "cell_type": "markdown",
   "metadata": {},
   "source": [
    "##### Use Case:"
   ]
  },
  {
   "cell_type": "code",
   "execution_count": 6,
   "metadata": {},
   "outputs": [
    {
     "name": "stdout",
     "output_type": "stream",
     "text": [
      "Encoded Bytes: b'Hello, \\xe4\\xb8\\x96\\xe7\\x95\\x8c!'\n",
      "Decoded String: Hello, 世界!\n"
     ]
    }
   ],
   "source": [
    "# 1. String have invalid character\n",
    "\n",
    "# String to encode\n",
    "original_string = \"Hello, 世界!\"\n",
    "\n",
    "# Encoding the string to bytes using UTF-8 encoding\n",
    "encoded_bytes = original_string.encode(encoding=\"utf-8\")\n",
    "\n",
    "# Printing the encoded bytes\n",
    "print(\"Encoded Bytes:\", encoded_bytes)\n",
    "\n",
    "# Decoding the bytes back to a string using UTF-8 decoding\n",
    "decoded_string = encoded_bytes.decode(encoding=\"utf-8\")\n",
    "\n",
    "# Printing the decoded string\n",
    "print(\"Decoded String:\", decoded_string)\n"
   ]
  },
  {
   "cell_type": "code",
   "execution_count": 19,
   "metadata": {},
   "outputs": [
    {
     "name": "stdout",
     "output_type": "stream",
     "text": [
      "b'i_lv_coding'\n",
      "Wrong Password !!\n",
      "You are logged in !!\n"
     ]
    }
   ],
   "source": [
    "# 2. Storing passwords in the back end and many other applications like cryptography which deals with keeping the information confidential.\n",
    "\n",
    "import base64\n",
    "\n",
    "# Data store in database \n",
    "user = \"geeksforgeeks\"\n",
    "passw = \"i_lv_coding\"\n",
    "\n",
    "# Convert password to binary using utf-8 encoding\n",
    "binary_passw = passw.encode(encoding='utf-8')\n",
    "\n",
    "# converting password to base64 encoding\n",
    "encoded_passw = base64.b64encode(binary_passw)\n",
    "\n",
    "# Decode base64 password back to binary\n",
    "decoded_passw = base64.b64decode(encoded_passw)\n",
    "\n",
    "# Convert binary password back to text using utf-8 encoding\n",
    "text_passw = decoded_passw.decode('utf-8')\n",
    "print(decoded_passw)\n",
    "\n",
    "# input from user\n",
    "# user_login = input()\n",
    "# pass_login = input()\n",
    " \n",
    "user_login = \"geeksforgeeks\"\n",
    " \n",
    "# wrongly entered password\n",
    "passw_login = \"geeksforgeeks\"\n",
    "\n",
    "if passw_login == text_passw:\n",
    "    print (\"You are logged in !\")\n",
    "else : print (\"Wrong Password !\")\n",
    "\n",
    "\n",
    "# correctly entered password\n",
    "passw_login = \"i_lv_coding\"\n",
    " \n",
    "if passw_login == text_passw:\n",
    "    print (\"You are logged in !\")\n",
    "else :\n",
    "    print (\"Wrong Password !\")\n"
   ]
  },
  {
   "cell_type": "code",
   "execution_count": 20,
   "metadata": {},
   "outputs": [
    {
     "name": "stdout",
     "output_type": "stream",
     "text": [
      "Wrong Password !\n",
      "You are logged in !\n"
     ]
    }
   ],
   "source": [
    "# 2. Storing passwords in the back end and many other applications like cryptography which deals with keeping the information confidential.\n",
    "\n",
    "# In case want to encode text directly into base64, use oodecs modulr.\n",
    "\n",
    "import codecs\n",
    "\n",
    "# Data store in database \n",
    "user = \"geeksforgeeks\"\n",
    "passw = \"i_lv_coding\"\n",
    "\n",
    "# Encode text data to base64 using codecs module\n",
    "encoded_passw = codecs.encode(passw.encode('utf-8'), 'base64').decode()\n",
    "\n",
    "# Decode base64 data back to text using codecs module\n",
    "decoded_data = codecs.decode(encoded_passw.encode(), 'base64').decode('utf-8')\n",
    "\n",
    "# input from user\n",
    "# user_login = input()\n",
    "# pass_login = input()\n",
    " \n",
    "user_login = \"geeksforgeeks\"\n",
    " \n",
    "# wrongly entered password\n",
    "passw_login = \"geeksforgeeks\"\n",
    "\n",
    "if passw_login == text_passw:\n",
    "    print (\"You are logged in !\")\n",
    "else : print (\"Wrong Password !\")\n",
    "\n",
    "\n",
    "# correctly entered password\n",
    "passw_login = \"i_lv_coding\"\n",
    " \n",
    "if passw_login == text_passw:\n",
    "    print (\"You are logged in !\")\n",
    "else :\n",
    "    print (\"Wrong Password !\")\n"
   ]
  }
 ],
 "metadata": {
  "kernelspec": {
   "display_name": ".venv-code",
   "language": "python",
   "name": "python3"
  },
  "language_info": {
   "codemirror_mode": {
    "name": "ipython",
    "version": 3
   },
   "file_extension": ".py",
   "mimetype": "text/x-python",
   "name": "python",
   "nbconvert_exporter": "python",
   "pygments_lexer": "ipython3",
   "version": "3.11.3"
  },
  "orig_nbformat": 4
 },
 "nbformat": 4,
 "nbformat_minor": 2
}

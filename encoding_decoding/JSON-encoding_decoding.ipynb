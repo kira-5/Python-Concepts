{
 "cells": [
  {
   "attachments": {},
   "cell_type": "markdown",
   "metadata": {},
   "source": [
    "\n",
    "### [json — JSON encoder and decode](https://docs.python.org/3/library/json.html)\n",
    "\n",
    "References:\n",
    "- [Ask Python](https://www.askpython.com/python-modules/python-json-module)\n",
    "\n",
    "- [How to Open JSON Files in Python?](https://www.scaler.com/topics/how-to-open-json-file-in-python/)\n",
    "\n",
    "- [Read JSON File in Python](https://www.scaler.com/topics/read-json-file-in-python/)\n",
    "\n",
    "- [String to JSON Python](https://www.scaler.com/topics/string-to-json-python/)\n",
    "\n",
    "- [JSON Dump in Python](https://www.scaler.com/topics/json-dump-in-python/)\n",
    "\n",
    "- [How to Load and Manipulate JSON Files with Pandas](https://www.scaler.com/topics/reading-json-file-in-pandas/)\n",
    "\n",
    "- [Convert Dictionary to JSON Python](https://www.scaler.com/topics/convert-dictionary-to-json-python/)\n"
   ]
  },
  {
   "cell_type": "code",
   "execution_count": 22,
   "metadata": {},
   "outputs": [],
   "source": [
    "import json"
   ]
  },
  {
   "attachments": {},
   "cell_type": "markdown",
   "metadata": {},
   "source": [
    "#### JSON\n",
    "- Stand for JavaScript Object Notation.\n",
    "- Lightweight data interchange format commonly used for transmitting data between a server and a web application. "
   ]
  },
  {
   "cell_type": "code",
   "execution_count": 23,
   "metadata": {},
   "outputs": [],
   "source": [
    "data = {\n",
    "    \"name\": \"John Doe\",\n",
    "    \"age\": 30,\n",
    "    \"city\": \"New York\"\n",
    "}"
   ]
  },
  {
   "attachments": {},
   "cell_type": "markdown",
   "metadata": {},
   "source": [
    "##### 1. Encoding\n",
    "- Python object to JSON String.\n",
    "- Also called Serialized."
   ]
  },
  {
   "attachments": {},
   "cell_type": "markdown",
   "metadata": {},
   "source": [
    "<span style='color:#68727B'>Using json.dumps()</span>"
   ]
  },
  {
   "cell_type": "code",
   "execution_count": 24,
   "metadata": {},
   "outputs": [
    {
     "name": "stdout",
     "output_type": "stream",
     "text": [
      "<class 'str'>\n",
      "{\"name\": \"John Doe\", \"age\": 30, \"city\": \"New York\"}\n",
      "--------------------------------------------------\n",
      "Compact encoding:\n",
      "{\"name\":\"John Doe\",\"age\":30,\"city\":\"New York\"}\n",
      "--------------------------------------------------\n",
      "Pretty printing:\n",
      "{\n",
      "    \"age\": 30,\n",
      "    \"city\": \"New York\",\n",
      "    \"name\": \"John Doe\"\n",
      "}\n"
     ]
    }
   ],
   "source": [
    "# Encoding (Python object to JSON String):\n",
    "\n",
    "json_string = json.dumps(data)\n",
    "print(type(json_string))\n",
    "print(json_string)\n",
    "\n",
    "print('-'*50)\n",
    "\n",
    "# Compact encoding:\n",
    "print(\"Compact encoding:\")\n",
    "print(json.dumps(data, separators=(',', ':')))\n",
    "\n",
    "print('-'*50)\n",
    "\n",
    "# Pretty printing:\n",
    "print(\"Pretty printing:\")\n",
    "print(json.dumps(data, sort_keys=True, indent=4))\n"
   ]
  },
  {
   "attachments": {},
   "cell_type": "markdown",
   "metadata": {},
   "source": [
    "<span style='color:#68727B'>Custom Serialization Class</span>"
   ]
  },
  {
   "cell_type": "code",
   "execution_count": null,
   "metadata": {},
   "outputs": [],
   "source": [
    "# creating a class using the  __str__(self) method which we use for the string representation\n",
    "class Serialization(dict):\n",
    "    def __str__(self):\n",
    "        return json.dumps(self)"
   ]
  },
  {
   "attachments": {},
   "cell_type": "markdown",
   "metadata": {},
   "source": [
    "##### 2. Decoding \n",
    "- JSON String to Python object\n",
    "- Also called Deserialized"
   ]
  },
  {
   "attachments": {},
   "cell_type": "markdown",
   "metadata": {},
   "source": [
    "<span style='color:#68727B'>Using json.loads()</span>"
   ]
  },
  {
   "cell_type": "code",
   "execution_count": 25,
   "metadata": {},
   "outputs": [
    {
     "name": "stdout",
     "output_type": "stream",
     "text": [
      "<class 'dict'>\n",
      "{'name': 'John Doe', 'age': 30, 'city': 'New York'}\n"
     ]
    }
   ],
   "source": [
    "# Decoding (JSON String to Python object):\n",
    "\n",
    "json_data = json.loads(json_string)\n",
    "print(type(json_data))\n",
    "print(json_data)"
   ]
  },
  {
   "attachments": {},
   "cell_type": "markdown",
   "metadata": {},
   "source": [
    "<span style='color:#68727B'>Using eval()</span>"
   ]
  },
  {
   "cell_type": "code",
   "execution_count": 26,
   "metadata": {},
   "outputs": [
    {
     "data": {
      "text/plain": [
       "{'name': 'John Doe', 'age': 30, 'city': 'New York'}"
      ]
     },
     "execution_count": 26,
     "metadata": {},
     "output_type": "execute_result"
    }
   ],
   "source": [
    "eval(json_string)"
   ]
  },
  {
   "cell_type": "code",
   "execution_count": 27,
   "metadata": {},
   "outputs": [
    {
     "name": "stdout",
     "output_type": "stream",
     "text": [
      "'{\"name\": \"John Doe\", \"age\": 30, \"city\": \"New York\"}'\n"
     ]
    }
   ],
   "source": [
    "from pprint import pprint\n",
    "\n",
    "pprint(json_string)"
   ]
  },
  {
   "attachments": {},
   "cell_type": "markdown",
   "metadata": {},
   "source": [
    "##### 3. Encoding to a file\n",
    "- Python object to JSON File"
   ]
  },
  {
   "attachments": {},
   "cell_type": "markdown",
   "metadata": {},
   "source": [
    "<span style='color:#68727B'>Using json.dump()</span>"
   ]
  },
  {
   "cell_type": "code",
   "execution_count": 28,
   "metadata": {},
   "outputs": [],
   "source": [
    "# Encoding (Python object to JSON) into a file:\n",
    "\n",
    "with open(\"data.json\", \"w\") as outfile:\n",
    "    json.dump(data, outfile)"
   ]
  },
  {
   "attachments": {},
   "cell_type": "markdown",
   "metadata": {},
   "source": [
    "##### 4. Decoding from a file\n",
    "- Json File to python object.\n",
    "-  `json.load()` is used to load JSON data from a file-like object (e.g., a file or a network stream) and convert it into a Python object.\n",
    "- json.loads(fileobject.read()) #for fileobject to store data in json file.\n"
   ]
  },
  {
   "attachments": {},
   "cell_type": "markdown",
   "metadata": {},
   "source": [
    "<span style='color:#68727B'>Using json.load()</span>"
   ]
  },
  {
   "cell_type": "code",
   "execution_count": 29,
   "metadata": {},
   "outputs": [
    {
     "name": "stdout",
     "output_type": "stream",
     "text": [
      "<class 'dict'>\n",
      "{'name': 'John Doe', 'age': 30, 'city': 'New York'}\n"
     ]
    }
   ],
   "source": [
    "# Decoding (JSON to Python object) from a file:\n",
    "\n",
    "# Using json.load(fileobject)\n",
    "with open(\"data.json\", \"r\") as file:\n",
    "    json_data = json.load(file)\n",
    "\n",
    "print(type(json_data))  \n",
    "print(json_data)"
   ]
  },
  {
   "attachments": {},
   "cell_type": "markdown",
   "metadata": {},
   "source": [
    "<span style='color:#68727B'>Using json.loads()</span>"
   ]
  },
  {
   "cell_type": "code",
   "execution_count": 30,
   "metadata": {},
   "outputs": [
    {
     "name": "stdout",
     "output_type": "stream",
     "text": [
      "<class 'dict'>\n",
      "{'name': 'John Doe', 'age': 30, 'city': 'New York'}\n"
     ]
    }
   ],
   "source": [
    "# Using json.loads(fileobject.read)\n",
    "with open(\"data.json\", \"r\") as file:\n",
    "    json_data = json.loads(file.read())\n",
    "\n",
    "print(type(json_data))  \n",
    "print(json_data)"
   ]
  },
  {
   "attachments": {},
   "cell_type": "markdown",
   "metadata": {},
   "source": [
    "#### Encoders and Decoders\n",
    "\n",
    "- Perform same task as dumps and loads"
   ]
  },
  {
   "attachments": {},
   "cell_type": "markdown",
   "metadata": {},
   "source": [
    "<span style='color:#68727B'>json.JSONEncoder().encode()</span>"
   ]
  },
  {
   "cell_type": "code",
   "execution_count": 31,
   "metadata": {},
   "outputs": [
    {
     "name": "stdout",
     "output_type": "stream",
     "text": [
      "<class 'str'>\n",
      "{\"name\": \"John Doe\", \"age\": 30, \"city\": \"New York\"}\n"
     ]
    }
   ],
   "source": [
    "json_string = json.JSONEncoder().encode(data)\n",
    "print(type(json_string))\n",
    "print(json_string)"
   ]
  },
  {
   "attachments": {},
   "cell_type": "markdown",
   "metadata": {},
   "source": [
    "<span style='color:#68727B'>json.JSONEncoder().decode()</span>"
   ]
  },
  {
   "cell_type": "code",
   "execution_count": 32,
   "metadata": {},
   "outputs": [
    {
     "name": "stdout",
     "output_type": "stream",
     "text": [
      "<class 'dict'>\n",
      "{'name': 'John Doe', 'age': 30, 'city': 'New York'}\n"
     ]
    }
   ],
   "source": [
    "json_data = json.JSONDecoder().decode(json_string)\n",
    "print(type(json_data))\n",
    "print(json_data)"
   ]
  },
  {
   "attachments": {},
   "cell_type": "markdown",
   "metadata": {},
   "source": [
    "#### Difference betwwen `json.dumps()` and `json.JSONEncoder().encode()`\n",
    "\n",
    "- In Python's json module, json.dumps() and json.JSONEncoder().encode() are both used for encoding Python objects into JSON format. However, they have some subtle differences in their usage and functionality:\n",
    "\n",
    "> <span style='color:#68727B'>json.dumps():</span>\n",
    ">> `json.dumps()` is a standalone function provided by the json module.\n",
    "It takes a Python object as input and returns a JSON-formatted string.\n",
    "By default, it can handle common data types (such as dictionaries, lists, strings, numbers, booleans, and None) and encode them into their JSON equivalents.\n",
    "It provides various optional parameters to control the encoding process, such as indent for pretty-printing, separators for customizing separators, and ensure_ascii for handling non-ASCII characters.\n",
    ">> - Example usage: `json_data = json.dumps(data)`\n",
    "\n",
    "\n",
    "> <span style='color:#68727B'>json.JSONEncoder().encode()</span>\n",
    ">> `json.JSONEncoder()` is a class provided by the json module that handles the encoding process.\n",
    "To use it, you need to create an instance of the JSONEncoder class and call its encode() method with the Python object you want to encode.\n",
    "It allows you to customize the encoding process by subclassing JSONEncoder and overriding its methods, such as default() to handle custom objects.\n",
    "It returns a JSON-formatted string, similar to `json.dumps()`.\n",
    ">> - Example usage: json_data = `json.JSONEncoder().encode(data)`\n",
    "\n",
    "- The main difference lies in flexibility and extensibility. If you only need to encode basic Python objects and want a simple way to convert them to JSON, `json.dumps()` is sufficient. On the other hand, if you require custom handling of specific object types or want to extend the JSON encoding behavior, you can subclass JSONEncoder and override its methods before calling `encode()`.\n",
    "\n",
    "- In summary, `json.dumps()` is a standalone function that provides a straightforward way to encode Python objects to JSON, while `json.JSONEncoder().encode()` is a method that belongs to the JSONEncoder class, offering more customization options for advanced encoding scenarios."
   ]
  }
 ],
 "metadata": {
  "kernelspec": {
   "display_name": ".fastaspi",
   "language": "python",
   "name": "python3"
  },
  "language_info": {
   "codemirror_mode": {
    "name": "ipython",
    "version": 3
   },
   "file_extension": ".py",
   "mimetype": "text/x-python",
   "name": "python",
   "nbconvert_exporter": "python",
   "pygments_lexer": "ipython3",
   "version": "3.11.3"
  },
  "orig_nbformat": 4
 },
 "nbformat": 4,
 "nbformat_minor": 2
}

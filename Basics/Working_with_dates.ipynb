{
 "cells": [
  {
   "cell_type": "code",
   "execution_count": null,
   "metadata": {},
   "outputs": [],
   "source": [
    "import pandas as pd\n",
    "import re\n",
    "import datetime\n",
    "\n",
    "data = [{'area': 'new-hills', 'rainfall': 100, 'temperature': 20, 'date': '10/04/2022'},\n",
    "        {'area': 'cape-town',  'rainfall': 70,\n",
    "            'temperature': 25, 'date': '2022-04-10'},\n",
    "        {'area': 'mumbai',  'rainfall': 200,  'temperature': 39, 'date': '2022-04-10'}]\n",
    "\n",
    "df = pd.DataFrame(data=data)\n",
    "date_string = df['date'][0]\n",
    "date_regex = \"^[0-9]{1,2}\\\\/[0-9]{1,2}\\\\/[0-9]{4}$\"\n",
    "if re.match(date_regex, date_string):\n",
    "    print(True)\n",
    "else:\n",
    "    print(False)\n",
    "\n",
    "# Notes on date string regex validation\n",
    "# While there are some regular expressions that allow more complex date validations, it is usually better to validate dates using special date and time libraries. For example, in Python datetime package can be used for these purposes. In this case, the validation will look like this:"
   ]
  },
  {
   "cell_type": "code",
   "execution_count": null,
   "metadata": {},
   "outputs": [],
   "source": [
    "try:\n",
    "    datetime.datetime.strptime(\"1-2-2022\", '%d-%m-%Y')\n",
    "    print(\"Correct date string\")\n",
    "except ValueError:\n",
    "    print(\"Incorrect date string\")"
   ]
  }
 ],
 "metadata": {
  "kernelspec": {
   "display_name": "Python 3.10.7 ('venv-python3.10.7')",
   "language": "python",
   "name": "python3"
  },
  "language_info": {
   "name": "python",
   "version": "3.10.7"
  },
  "orig_nbformat": 4,
  "vscode": {
   "interpreter": {
    "hash": "7df42be2803d362a0c5b937db4573c7ae2174193baee5a5fef0399f5ac03b770"
   }
  }
 },
 "nbformat": 4,
 "nbformat_minor": 2
}

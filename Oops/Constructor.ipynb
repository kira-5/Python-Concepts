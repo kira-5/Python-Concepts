{
 "cells": [
  {
   "cell_type": "code",
   "execution_count": null,
   "metadata": {},
   "outputs": [],
   "source": [
    "# A constructor is a unique function that gets called automatically when an object of a class is created.\n",
    "\n",
    "# The main purpose of a constructor is to initialize or assign values to the data members of that class.\n",
    "\n",
    "\n",
    "# Types of Constructors in Python\n",
    "#     Parameterized Constructor\n",
    "#     Non-Parameterized Constructor\n",
    "#     Default Constructor"
   ]
  },
  {
   "cell_type": "code",
   "execution_count": null,
   "metadata": {},
   "outputs": [],
   "source": [
    "# Parameterized Constructor in Python\n",
    "\n",
    "class Family:\n",
    "    # Constructor - parameterized\n",
    "    members = 5\n",
    "\n",
    "    def __init__(self, count):\n",
    "        print(\"This is a parameterized constructor\")\n",
    "        self.members = count\n",
    "\n",
    "    def show(self):\n",
    "        print(\"Number of members is\", self.members)\n",
    "\n",
    "family_object = Family(10)\n",
    "family_object.show()\n"
   ]
  },
  {
   "cell_type": "code",
   "execution_count": null,
   "metadata": {},
   "outputs": [],
   "source": [
    "# Non-Parameterized Constructor in Python\n",
    "\n",
    "class Fruits:\n",
    "    favourite = \"Apple\"\n",
    "\n",
    "    # Non-parameterized constructor\n",
    "    def __init__(self):\n",
    "        self.favourite = \"Orange\"\n",
    "\n",
    "    # A method to display the favorite fruit\n",
    "    def show(self):\n",
    "        print(self.favourite)\n",
    "\n",
    "# Creating an object of the class\n",
    "obj = Fruits()\n",
    "\n",
    "# Calling the instance method using the object\n",
    "obj.show()\n"
   ]
  },
  {
   "cell_type": "code",
   "execution_count": null,
   "metadata": {},
   "outputs": [],
   "source": [
    "# Default Constructor in Python\n",
    "\n",
    "class Assignments:\n",
    "    check = \"not done\"\n",
    "\n",
    "    # A method to check assignment status\n",
    "    def is_done(self):\n",
    "        print(self.check)\n",
    "\n",
    "# Creating an object of the class\n",
    "obj = Assignments()\n",
    "\n",
    "# Calling the instance method using the object\n",
    "obj.is_done()\n"
   ]
  }
 ],
 "metadata": {
  "language_info": {
   "name": "python"
  }
 },
 "nbformat": 4,
 "nbformat_minor": 2
}

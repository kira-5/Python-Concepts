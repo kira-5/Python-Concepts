{
 "cells": [
  {
   "cell_type": "code",
   "execution_count": null,
   "metadata": {},
   "outputs": [],
   "source": [
    "# Polymorphism in OOPS refers to the functions having the same names but carrying different functionalities.\n",
    "#  Or, having the same function name, but different function signature(parameters passed to the function).\n",
    "\n",
    "\n",
    "# A child class inherits all properties from its parent class methods. But sometimes, it wants to add its own implementation to the methods. There are ample of ways we can use polymorphism in Python.\n"
   ]
  },
  {
   "cell_type": "code",
   "execution_count": null,
   "metadata": {},
   "outputs": [],
   "source": [
    "# Example of Inbuilt Polymorphic Functions: len()\n",
    "#  Because, we can use it to calclate the length of vaious types like string, list, tuple or dictionary,\n",
    "\n",
    "# We also have polymorphism with the '+' addition operator \n",
    "\n",
    "print(len('deepa'))\n",
    "print(len([1,2,5,9]))\n",
    "print(len({'1':'apple','2':'cherry','3':'banana'}))\n"
   ]
  },
  {
   "cell_type": "code",
   "execution_count": 1,
   "metadata": {},
   "outputs": [
    {
     "name": "stdout",
     "output_type": "stream",
     "text": [
      "The monkey is yellow coloured!\n",
      "The monkey eats bananas!\n",
      "The rabbit is white coloured!\n",
      "The rabbit eats carrots!\n"
     ]
    }
   ],
   "source": [
    "# Polymorphism with Class Methods\n",
    "\n",
    "class Monkey:\n",
    "    def color(self):\n",
    "        print(\"The monkey is yellow coloured!\")\n",
    "\n",
    "    def eats(self):\n",
    "        print(\"The monkey eats bananas!\")\n",
    "\n",
    "\n",
    "class Rabbit:\n",
    "    def color(self):\n",
    "        print(\"The rabbit is white coloured!\")\n",
    "\n",
    "    def eats(self):\n",
    "        print(\"The rabbit eats carrots!\")\n",
    "\n",
    "\n",
    "mon = Monkey()\n",
    "rab = Rabbit()\n",
    "for animal in (mon, rab):\n",
    "    animal.color()\n",
    "    animal.eats()\n",
    "\n",
    "\n",
    "# Here, we can iterate over the objects of Monkey & Rabbit using one variable - animal, and it can call the instance methods of both of them. So, here one variable animal is used to represent the behaviour (color() & eats()) of Monkey as well as Rabbit. So, it is following the rules of Polymorphism!\n"
   ]
  },
  {
   "cell_type": "code",
   "execution_count": null,
   "metadata": {},
   "outputs": [],
   "source": [
    "# Polymorphism with Inheritance\n",
    "\n",
    "# possible to modify a method in a child class that it has inherited from the parent class, adding its own implementation to the method.\n",
    "# This process of re-implementing a method in the child class is known as Method Overriding in Python.\n",
    "\n",
    "\n",
    "class Shape:\n",
    "    def no_of_sides(self):\n",
    "        pass\n",
    "\n",
    "    def two_dimensional(self):\n",
    "        print(\"I am a 2D object. I am from shape class\")\n",
    "\n",
    "\n",
    "class Square(Shape):\n",
    "    \n",
    "    def no_of_sides(self):\n",
    "        print(\"I have 4 sides. I am from Square class\")\n",
    "\n",
    "class Triangle(Shape):\n",
    "    \n",
    "    def no_of_sides(self):\n",
    "        print(\"I have 3 sides. I am from Triangle class\")\n",
    "        \n",
    "# Create an object of Square class\n",
    "sq = Square()\n",
    "# Override the no_of_sides of parent class\n",
    "sq.no_of_sides()\n",
    "\n",
    "# Create an object of triangle class\n",
    "tr = Triangle()\n",
    "# Override the no_of_sides of parent class\n",
    "tr.no_of_sides()\n"
   ]
  },
  {
   "cell_type": "code",
   "execution_count": null,
   "metadata": {},
   "outputs": [],
   "source": [
    "# Polymorphism with Function and Objects\n",
    "\n",
    "class Beans(): \n",
    "     def type(self): \n",
    "       print(\"Vegetable\") \n",
    "     def color(self):\n",
    "       print(\"Green\") \n",
    "class Mango(): \n",
    "     def type(self): \n",
    "       print(\"Fruit\") \n",
    "     def color(self): \n",
    "       print(\"Yellow\")      \n",
    "def func(obj): \n",
    "       obj.type() \n",
    "       obj.color()\n",
    "#creating objects\n",
    "obj_beans = Beans() \n",
    "obj_mango = Mango() \n",
    "func(obj_beans) \n",
    "func(obj_mango)\n"
   ]
  }
 ],
 "metadata": {
  "kernelspec": {
   "display_name": ".venv-github",
   "language": "python",
   "name": "python3"
  },
  "language_info": {
   "codemirror_mode": {
    "name": "ipython",
    "version": 3
   },
   "file_extension": ".py",
   "mimetype": "text/x-python",
   "name": "python",
   "nbconvert_exporter": "python",
   "pygments_lexer": "ipython3",
   "version": "3.10.12"
  }
 },
 "nbformat": 4,
 "nbformat_minor": 2
}

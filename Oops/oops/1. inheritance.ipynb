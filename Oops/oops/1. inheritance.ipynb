{
 "cells": [
  {
   "cell_type": "code",
   "execution_count": 1,
   "metadata": {},
   "outputs": [],
   "source": [
    "# People often say to newborn babies that they have got similar facial features to their parents, or that they have inherited certain features from their parents. It is likely that you too have noticed that you have inherited some or the other features from your parents.\n",
    "\n",
    "# Inheritance is the process by which a class can inherit or derive the properties(or data) and methods(or functions) of another class. \n"
   ]
  },
  {
   "cell_type": "code",
   "execution_count": 2,
   "metadata": {},
   "outputs": [
    {
     "name": "stdout",
     "output_type": "stream",
     "text": [
      "Hey! My name is John, I'm a male and I'm 15 years old\n",
      "I study in Sunshine Model School\n"
     ]
    }
   ],
   "source": [
    "class Human:     #parent class\n",
    "    def __init__(self, name, age, gender):\n",
    "        self.name = name\n",
    "        self.age = age\n",
    "        self.gender = gender\n",
    "\n",
    "    def description(self):\n",
    "        print(f\"Hey! My name is {self.name}, I'm a {self.gender} and I'm {self.age} years old\")\n",
    "\n",
    "class Boy(Human):    #child class\n",
    "    def schoolName(self, schoolname):\n",
    "        print(f\"I study in {schoolname}\")\n",
    "\n",
    "\n",
    "b = Boy('John', 15, 'male')\n",
    "b.description()\n",
    "b.schoolName(\"Sunshine Model School\")\n"
   ]
  },
  {
   "cell_type": "code",
   "execution_count": null,
   "metadata": {},
   "outputs": [],
   "source": [
    "# Common problems and how to solve it"
   ]
  },
  {
   "cell_type": "code",
   "execution_count": 3,
   "metadata": {},
   "outputs": [],
   "source": [
    "#  child classes can access the data and properties of parent class but vice versa is not possible."
   ]
  },
  {
   "cell_type": "code",
   "execution_count": 4,
   "metadata": {},
   "outputs": [
    {
     "name": "stdout",
     "output_type": "stream",
     "text": [
      "Hey! My name is Lily, I'm a girl and I'm 20 years old\n"
     ]
    },
    {
     "ename": "AttributeError",
     "evalue": "'Human' object has no attribute 'schoolName'",
     "output_type": "error",
     "traceback": [
      "\u001b[0;31m---------------------------------------------------------------------------\u001b[0m",
      "\u001b[0;31mAttributeError\u001b[0m                            Traceback (most recent call last)",
      "Cell \u001b[0;32mIn[4], line 16\u001b[0m\n\u001b[1;32m     14\u001b[0m h \u001b[38;5;241m=\u001b[39m Human(\u001b[38;5;124m'\u001b[39m\u001b[38;5;124mLily\u001b[39m\u001b[38;5;124m'\u001b[39m,\u001b[38;5;241m20\u001b[39m,\u001b[38;5;124m'\u001b[39m\u001b[38;5;124mgirl\u001b[39m\u001b[38;5;124m'\u001b[39m) \u001b[38;5;66;03m# h is the object of the parent class - Human\u001b[39;00m\n\u001b[1;32m     15\u001b[0m h\u001b[38;5;241m.\u001b[39mdescription()\n\u001b[0;32m---> 16\u001b[0m \u001b[43mh\u001b[49m\u001b[38;5;241;43m.\u001b[39;49m\u001b[43mschoolName\u001b[49m(\u001b[38;5;124m'\u001b[39m\u001b[38;5;124mABC Academy\u001b[39m\u001b[38;5;124m'\u001b[39m) \u001b[38;5;66;03m#cannot access child class's method using parent class's object\u001b[39;00m\n",
      "\u001b[0;31mAttributeError\u001b[0m: 'Human' object has no attribute 'schoolName'"
     ]
    }
   ],
   "source": [
    "class Human:\n",
    "    def __init__(self,name,age,gender):\n",
    "        self.name = name\n",
    "        self.age = age\n",
    "        self.gender = gender\n",
    "    def description(self):\n",
    "        print(f\"Hey! My name is {self.name}, I'm a {self.gender} and I'm {self.age} years old\")\n",
    "        \n",
    "class Girl(Human):\n",
    "    def schoolName(self,schoolName):\n",
    "        print(\"I study in {schoolName}\")\n",
    "\n",
    "\n",
    "h = Human('Lily',20,'girl') # h is the object of the parent class - Human\n",
    "h.description()\n",
    "h.schoolName('ABC Academy') #cannot access child class's method using parent class's object\n"
   ]
  },
  {
   "cell_type": "code",
   "execution_count": null,
   "metadata": {},
   "outputs": [],
   "source": [
    "# Super()\n",
    "# Syntax: super().methodName()\n",
    "# call the parent class's dance method from the child class.\n",
    "\n",
    "class Human:\n",
    "    def __init__(self,name,age,gender):\n",
    "        self.name = name\n",
    "        self.age = age\n",
    "        self.gender = gender\n",
    "    def description(self):\n",
    "        print(f\"Hey! My name is {self.name}, I'm a {self.gender} and I'm {self.age} years old\")\n",
    "    \n",
    "    def dance(self):\n",
    "        print(\"I can dance\")\n",
    "        \n",
    "class Girl(Human):\n",
    "    def dance(self):\n",
    "        print(\"I can do classic dance\")\n",
    "    def activity(self):\n",
    "        super().dance()\n",
    "g = Girl('Lily', 20, 'girl')\n",
    "g.description()\n",
    "g.activity()\n"
   ]
  },
  {
   "cell_type": "code",
   "execution_count": 5,
   "metadata": {},
   "outputs": [
    {
     "name": "stdout",
     "output_type": "stream",
     "text": [
      "50\n"
     ]
    }
   ],
   "source": [
    "# python 3 syntax\n",
    "# solution to method overriding - 1\n",
    " \n",
    "class parent:                       # parent class\n",
    " \n",
    "    def __init__(self):             # __init__() of parent\n",
    "        self.attr1 = 50\n",
    "        self.attr2 = 66\n",
    " \n",
    "class child(parent):                # child class\n",
    " \n",
    "    def __init__(self):             # __init__() of child\n",
    "        parent.__init__(self)       # calling parent’s __init__()\n",
    "        self.attr3 = 45\n",
    " \n",
    "test = child()                      # object initiated\n",
    " \n",
    "print (test.attr1)                  # parent attribute called via child\n"
   ]
  },
  {
   "cell_type": "code",
   "execution_count": null,
   "metadata": {},
   "outputs": [],
   "source": [
    "# Another way to solve this problem without explicitly typing out the parent name is to use super().\n",
    "\n",
    "# python 3 syntax\n",
    "# solution to method overriding - 2\n",
    " \n",
    "class parent:                     # parent class\n",
    " \n",
    "    def display(self):            # display() of parent\n",
    "        print(\"Hello Parent\")\n",
    " \n",
    "class child(parent):              # child class\n",
    " \n",
    "    def display(self):            # display() of child\n",
    "        super().display()         # referencing parent via super()\n",
    "        print(\"Hello Child\")\n",
    " \n",
    "test = child()                    # object initiated\n",
    " \n",
    "test.display()                    # display of both activated\n"
   ]
  },
  {
   "cell_type": "code",
   "execution_count": null,
   "metadata": {},
   "outputs": [],
   "source": [
    "# Special functions for Python inheritance\n",
    "\n",
    "# super method\n",
    "\n",
    "# issubclass(): The issubclass() function is a convenient way to check whether a class is the child of the parent class. \n",
    "\n",
    "# isinstance(): whether an object is an instance of a particular class or any of the classes it has been derived from.\n",
    "# It takes two parameters, i.e. the object and the class\n"
   ]
  },
  {
   "cell_type": "code",
   "execution_count": null,
   "metadata": {},
   "outputs": [],
   "source": [
    "# python 3 syntax\n",
    "# issubclass() and isinstance() example\n",
    " \n",
    "class parent:                     # parent class\n",
    "    def func1():                   \n",
    "        print(\"Hello Parent\")\n",
    " \n",
    "class child(parent):              # child class\n",
    "    def func2():                 \n",
    "        print(\"Hello Child\")  \n",
    "                                \n",
    " \n",
    "# Driver Code\n",
    " \n",
    "print(issubclass(child,parent))          # checks if child is subclass of parent\n",
    " \n",
    "print(issubclass(parent,child))          # checks if parent is subclass of child\n",
    " \n",
    "A = child()                        # objects initialized\n",
    "B = parent()\n",
    " \n",
    "print(isinstance(A,child))                # checks if A is instance of child\n",
    "print(isinstance(A,parent))               # checks if A is instance of parent\n",
    "print(isinstance(B,child))                # checks if B is instance of child\n",
    "print(isinstance(B,parent))            # checks if B is instance of parent\n"
   ]
  },
  {
   "cell_type": "code",
   "execution_count": null,
   "metadata": {},
   "outputs": [],
   "source": [
    "# Types of Inheritance in Python\n",
    "\n",
    "# Single Inheritance in Python\n",
    "    # - a single child class is derived from a single parent class. \n",
    "\n",
    "# Multiple Inheritance in Python\n",
    "    # - a single child class is inherited from two or more parent classes.\n",
    "    # -  if two parents have the same “named” methods, the child class performs the method of the first parent in order of reference.\n",
    "    # - To better understand which class’s methods shall be executed first, we can use the Method Resolution Order function (mro). It tells the order in which the child class is interpreted to visit the other classes.\n",
    "\n",
    "# Multilevel Inheritance in Python\n",
    "    # - we go beyond just a parent-child relation. We introduce grandchildren, great-grandchildren, grandparents, etc.\n",
    "\n",
    "# Hierarchical Inheritance in Python\n",
    "    # - Hierarchical Inheritance is the right opposite of multiple inheritance.\n",
    "    # - It means that there are multiple derived child classes from a single-parent class.\n",
    "\n",
    "# Hybrid Inheritance in Python\n",
    "    # - mixture of two or more different types of inheritance.\n"
   ]
  },
  {
   "cell_type": "code",
   "execution_count": null,
   "metadata": {},
   "outputs": [],
   "source": [
    "# python 3 syntax\n",
    "# single inheritance example\n",
    " \n",
    "class parent:                  # parent class\n",
    "    def func1(self):\n",
    "        print(\"Hello Parent\")\n",
    " \n",
    "class child(parent):    \n",
    "  # child class\n",
    "    def func2(self):                 # we include the parent class\n",
    "        print(\"Hello Child\")   # as an argument in the child\n",
    "                               # class\n",
    " \n",
    "# Driver Code\n",
    "test = child()                 # object created\n",
    "test.func1()                   # parent method called via child object\n",
    "test.func2()                   # child method called\n"
   ]
  },
  {
   "cell_type": "code",
   "execution_count": null,
   "metadata": {},
   "outputs": [],
   "source": [
    "# python 3 syntax\n",
    "# multiple inheritance example\n",
    " \n",
    "class parent1:                     # first parent class\n",
    "    def func1(self):                   \n",
    "        print(\"Hello Parent1\")\n",
    " \n",
    "class parent2:                     # second parent class\n",
    "    def func2(self):                   \n",
    "        print(\"Hello Parent2\")\n",
    " \n",
    "class parent3:                     # third parent class\n",
    "    def func2(self):                     # the function name is same as parent2\n",
    "        print(\"Hello Parent3\")\n",
    " \n",
    "class child(parent1, parent2, parent3):     # child class\n",
    "    def func3(self):                     # we include the parent classes\n",
    "        print(\"Hello Child\")       # as an argument comma separated\n",
    "                           \n",
    "# Driver Code\n",
    "test = child()        # object created\n",
    "test.func1()          # parent1 method called via child\n",
    "test.func2()          # parent2 method called via child instead of parent3\n",
    "test.func3()          # child method called\n",
    " \n",
    "# to find the order of classes visited by the child class, we use __mro__ on the child class\n",
    "print(child.__mro__)\n"
   ]
  },
  {
   "cell_type": "code",
   "execution_count": null,
   "metadata": {},
   "outputs": [],
   "source": [
    "class grandparent:                 # first level\n",
    "    def func1(self):                   \n",
    "        print(\"Hello Grandparent\")\n",
    " \n",
    "class parent(grandparent):         # second level\n",
    "    def func2(self):                   \n",
    "        print(\"Hello Parent\")\n",
    " \n",
    "class child(parent):               # third level\n",
    "    def func3(self):                   \n",
    "        print(\"Hello Child\")   \n",
    "                               \n",
    " \n",
    "# Driver Code\n",
    "test = child()                     # object created\n",
    "test.func1()                       # 3rd level calls 1st level\n",
    "test.func2()                       # 3rd level calls 2nd level\n",
    "test.func3()                       # 3rd level calls 3rd level\n"
   ]
  },
  {
   "cell_type": "code",
   "execution_count": null,
   "metadata": {},
   "outputs": [],
   "source": [
    "# python 3 syntax\n",
    "# hierarchical inheritance example\n",
    " \n",
    "class parent:                       # parent class\n",
    "    def func1(self):                   \n",
    "        print(\"Hello Parent\")\n",
    " \n",
    "class child1(parent):               # first child class\n",
    "    def func2(self):                   \n",
    "        print(\"Hello Child1\")\n",
    " \n",
    " \n",
    "class child2(parent):               # second child class\n",
    "    def func3(self):                   \n",
    "        print(\"Hello Child2\")   \n",
    "                               \n",
    " \n",
    "# Driver Code\n",
    "test1 = child1()                     # objects created\n",
    "test2 = child2() \n",
    " \n",
    "test1.func1()                       # child1 calling parent method\n",
    "test1.func2()                       # child1 calling its own method\n",
    " \n",
    "test2.func1()                       # child2 calling parent method\n",
    "test2.func3()                       # child2 calling its own method\n"
   ]
  },
  {
   "cell_type": "code",
   "execution_count": null,
   "metadata": {},
   "outputs": [],
   "source": [
    "# python 3 syntax\n",
    "# hybrid inheritance example\n",
    " \n",
    "class parent1:                            # first parent class\n",
    "    def func1(self):                   \n",
    "        print(\"Hello Parent1\")\n",
    " \n",
    " \n",
    "class parent2:                            # second parent class\n",
    "    def func2(self):                   \n",
    "        print(\"Hello Parent2\")\n",
    " \n",
    "class child1(parent1):                    # first child class\n",
    "    def func3(self):                   \n",
    "        print(\"Hello Child1\")\n",
    " \n",
    " \n",
    "class child2(child1, parent2):            # second child class\n",
    "    def func4(self):                   \n",
    "        print(\"Hello Child2\")   \n",
    "                               \n",
    " \n",
    "# Driver Code\n",
    "test1 = child1()                          # object created\n",
    "test2 = child2()\n",
    " \n",
    "test1.func1()                       # child1 calling parent1 method\n",
    "test1.func3()                       # child1 calling its own method\n",
    " \n",
    "test2.func1()                       # child2 calling parent1 method\n",
    "test2.func2()                       # child2 calling parent2 method\n",
    "test2.func3()                       # child2 calling child1 method\n",
    "test2.func4()                       # child2 calling its own method\n"
   ]
  }
 ],
 "metadata": {
  "kernelspec": {
   "display_name": ".venv-github",
   "language": "python",
   "name": "python3"
  },
  "language_info": {
   "codemirror_mode": {
    "name": "ipython",
    "version": 3
   },
   "file_extension": ".py",
   "mimetype": "text/x-python",
   "name": "python",
   "nbconvert_exporter": "python",
   "pygments_lexer": "ipython3",
   "version": "3.10.12"
  }
 },
 "nbformat": 4,
 "nbformat_minor": 2
}

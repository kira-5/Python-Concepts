{
 "cells": [
  {
   "cell_type": "code",
   "execution_count": null,
   "metadata": {},
   "outputs": [],
   "source": [
    "# The main goal of Abstraction is to hide background details or any unnecessary implementation about the data so that users only see the required information. It helps in handling the complexity of the codes.\n",
    "\n",
    "\n",
    "# It is likely that you are reading this article on your laptop, phone, or tablet. You are also probably making notes, and highlighting important points, and you may be saving some points in your internal files while reading it. As you read this, all you see before you is a 'screen' and all this data that is shown to you. As you type, all you see are the keys on the keyboard and you don't have to worry about the internal details, like how pressing a key may lead to displaying that word onscreen. Or, how clicking on a button on your screen could open a new tab!\n",
    "\n",
    "# So, everything we can see here is at an abstract level. We are not able to see the internal details, but just the result it is producing(which actually matters to us).\n",
    "\n",
    "# Abstraction in a similar way just shows us the functionalities anything holds, hiding all the implementations or inner details."
   ]
  },
  {
   "cell_type": "code",
   "execution_count": null,
   "metadata": {},
   "outputs": [],
   "source": [
    "# In Python, abstraction can be achieved by using abstract classes\n",
    "# A class that consists of one or more abstract methods is called the \"abstract class\".\n",
    "# Abstract methods do not contain any implementation of their own.\n",
    "# Abstract class can be inherited by any subclass. The subclasses that inherit the abstract classes provide the implementations for their abstract methods.\n",
    "# Abstract classes cannot be instantiated. In simple words, we cannot create objects for the abstract classes.\n",
    "# An Abstract class can contain the both types of methods -- normal and abstract method. In the abstract methods, we do not provide any definition or code. But in the normal methods, we provide the implementation of the code needed for the method.\n",
    "\n",
    "\n",
    "# Syntax of Abstract Class in Python\n",
    "from abc import ABC  \n",
    "class ClassName(ABC):  \n",
    "\n",
    "# ABC stands for Abstract Base class. The abc module provides the base for defining Abstract Base classes (ABC).\n"
   ]
  },
  {
   "cell_type": "code",
   "execution_count": null,
   "metadata": {},
   "outputs": [],
   "source": [
    "from abc import ABC, abstractmethod\n",
    "\n",
    "class Vehicle(ABC):  # inherits abstract class\n",
    "\n",
    "    #common function\n",
    "    def common_fn(self):\n",
    "        print('In the common method of Parent')\n",
    "    @abstractmethod\n",
    "    def abs_fn(self): #is supposed to have different implementation in child classes \n",
    "        pass\n",
    "\n",
    "    #abstract method\n",
    "    def no_of_wheels(self):\n",
    "        pass\n",
    "\n",
    "class Bike(Vehicle):\n",
    "    def no_of_wheels(self): # provide definition for abstract method\n",
    "        print(\"Bike have 2 wheels\")  \n",
    "\n",
    "class Tempo(Vehicle):\n",
    "    def no_of_wheels(self):  # provide definition for abstract method\n",
    "        print(\"Tempo have 3 wheels\")\n",
    "\n",
    "class Truck(Vehicle):  # provide definition for abstract method\n",
    "    def no_of_wheels(self):\n",
    "        print(\"Truck have 4 wheels\")\n",
    "\n",
    "\n",
    "bike = Bike()\n",
    "bike.no_of_wheels()\n",
    "tempo = Tempo()\n",
    "tempo.no_of_wheels()\n",
    "truck = Truck()\n",
    "truck.no_of_wheels()"
   ]
  },
  {
   "cell_type": "code",
   "execution_count": null,
   "metadata": {},
   "outputs": [],
   "source": [
    "from abc import ABC, abstractmethod\n",
    "class MyClass(ABC):\n",
    " @abstractmethod\n",
    " def mymethod(self):\n",
    "  #empty body\n",
    "  pass\n"
   ]
  }
 ],
 "metadata": {
  "language_info": {
   "name": "python"
  }
 },
 "nbformat": 4,
 "nbformat_minor": 2
}

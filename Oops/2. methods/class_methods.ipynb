{
 "cells": [
  {
   "cell_type": "code",
   "execution_count": null,
   "metadata": {},
   "outputs": [],
   "source": [
    "# The classmethod() returns a class method for a given function passed.\n",
    "# Class methods can be created either with the decorator @classmethod or classmethod() function.\n",
    "\n",
    "# Parameters for Class Method in Python: classmethod() accepts a single parameter, function that is to be converted into classmethod.\n",
    "# Return Values for Class Method in Python: classmethod() returns the class method corresponding to the function passed.\n",
    "# Exceptions for Class Method in Python: classmethod() does not raise any exceptions by itself.\n",
    "# They behave nicely with inherited classes."
   ]
  },
  {
   "cell_type": "code",
   "execution_count": 1,
   "metadata": {},
   "outputs": [
    {
     "data": {
      "text/plain": [
       "<classmethod(5)>"
      ]
     },
     "execution_count": 1,
     "metadata": {},
     "output_type": "execute_result"
    }
   ],
   "source": [
    "def add(a,b):\n",
    "    return a + b\n",
    "\n",
    "classmethod(add(2, 3))"
   ]
  },
  {
   "cell_type": "code",
   "execution_count": 7,
   "metadata": {},
   "outputs": [
    {
     "name": "stdout",
     "output_type": "stream",
     "text": [
      "<__main__.ClassMethods object at 0x10772a1d0>\n",
      "Class Methods\n"
     ]
    }
   ],
   "source": [
    "class classMethods:\n",
    "    number = None\n",
    "\n",
    "    def __init__(self, value):\n",
    "        self.value = value\n",
    "\n",
    "    @classmethod\n",
    "    def class_methods(cls):\n",
    "        return cls(\"Class Methods\")\n",
    "\n",
    "obj = classMethods.class_methods()  # Calling the class method\n",
    "print(obj)  # Output: <__main__.ClassMethods object at 0x7f69e5826b80>\n",
    "print(obj.value)  # Output: Class Methods\n"
   ]
  },
  {
   "cell_type": "code",
   "execution_count": null,
   "metadata": {},
   "outputs": [],
   "source": [
    "# Class method is tied to its class rather than the instances created with that class.\n",
    "# class methods can access class variables and methods.\n",
    "# classmethods can be called from either class itself (or) instance.\n"
   ]
  },
  {
   "cell_type": "code",
   "execution_count": 9,
   "metadata": {},
   "outputs": [
    {
     "name": "stdout",
     "output_type": "stream",
     "text": [
      "Class Methods\n",
      "<__main__.classMethods object at 0x107a605b0>\n",
      "Class Methods\n"
     ]
    }
   ],
   "source": [
    "class classMethods:\n",
    "    number = None\n",
    "\n",
    "    def __init__(self, value):\n",
    "        self.value = value\n",
    "\n",
    "    @classmethod\n",
    "    def class_methods(cls):\n",
    "        return cls(\"Class Methods\")\n",
    "\n",
    "\n",
    "# calling from instance\n",
    "obj = classMethods\n",
    "print(obj.class_methods().value)\n",
    "\n",
    "# calling from class\n",
    "obj = classMethods.class_methods()  # Calling the class method\n",
    "print(obj)  # Output: <__main__.ClassMethods object at 0x7f69e5826b80>\n",
    "print(obj.value)  # Output: Class Methods\n"
   ]
  },
  {
   "cell_type": "code",
   "execution_count": null,
   "metadata": {},
   "outputs": [],
   "source": [
    "# Class methods are especially useful in the case of factory methods."
   ]
  },
  {
   "cell_type": "code",
   "execution_count": 10,
   "metadata": {},
   "outputs": [
    {
     "name": "stdout",
     "output_type": "stream",
     "text": [
      "Rectangle with dimensions 10x10.\n"
     ]
    }
   ],
   "source": [
    "# Factory method : Factory methods return a new instance/object for several use cases.\n",
    "\n",
    "class Square:\n",
    "    def __init__(self, side):\n",
    "        self.side = side\n",
    "\n",
    "    def __str__(self):\n",
    "        return f\"Square of side length {self.side} units.\"\n",
    "\n",
    "\n",
    "class Rectangle:\n",
    "    def __init__(self, length, breadth):\n",
    "        self.length = length\n",
    "        self.breadth = breadth\n",
    "\n",
    "    @classmethod\n",
    "    def from_square(cls, square):\n",
    "        # returns an instance\n",
    "        return cls(length=square.side, breadth=square.side)\n",
    "\n",
    "    def __str__(self):\n",
    "        return f\"Rectangle with dimensions {self.length}x{self.breadth}.\"\n",
    "\n",
    "\n",
    "def main():\n",
    "    square_box = Square(10)\n",
    "    rectangle_box = Rectangle.from_square(\n",
    "        square_box\n",
    "    )  # calling class method from class.\n",
    "    print(rectangle_box)\n",
    "\n",
    "\n",
    "if __name__ == \"__main__\":\n",
    "    main()"
   ]
  },
  {
   "cell_type": "code",
   "execution_count": 15,
   "metadata": {},
   "outputs": [
    {
     "name": "stdout",
     "output_type": "stream",
     "text": [
      "('Dolores', 44)\n"
     ]
    }
   ],
   "source": [
    "from datetime import datetime\n",
    "\n",
    "\n",
    "class Teacher:\n",
    "    occupation = \"Teacher\"\n",
    "\n",
    "    def __init__(self, name, age):\n",
    "        self.name = name\n",
    "        self.age = age\n",
    "\n",
    "    @classmethod\n",
    "    def create_with_birth_date(cls, name, birth_date):\n",
    "        age = (datetime.today() - birth_date).days // 365\n",
    "        return cls(name, age)\n",
    "\n",
    "snape = Teacher(\"Snape\", 60)\n",
    "dolores = Teacher.create_with_birth_date(\n",
    "    \"Dolores\", datetime.fromisoformat(\"1980-01-01\")\n",
    ")\n",
    "print((dolores.name, dolores.age))"
   ]
  },
  {
   "cell_type": "code",
   "execution_count": null,
   "metadata": {},
   "outputs": [],
   "source": [
    "# classmethod in Inherited Classes :\n",
    "\n",
    "class Bird:\n",
    "    bird_type = \"bird\"\n",
    "    def __init__(self, age, name):\n",
    "        self.age = age\n",
    "        self.name = name\n",
    "\n",
    "    @classmethod\n",
    "    def lay_eggs(cls, child_name):\n",
    "        return cls(1, child_name)\n",
    "\n",
    "    def __str__(self):\n",
    "        return f\"A {self.bird_type} named {self.name} ({self.age} year old).\"\n",
    "\n",
    "class Parrot(Bird):\n",
    "    bird_type = \"parrot\"\n",
    "\n",
    "class Pigeon(Bird):\n",
    "    bird_type = \"pigeon\"\n",
    "\n",
    "def main():\n",
    "    mom_parrot = Parrot(10, \"Beaker\")\n",
    "    small_parrot = mom_parrot.lay_eggs(\"Coco\")  # returns a Parrot NOT Bird\n",
    "    print(small_parrot)\n",
    "\n",
    "    mom_pigeon = Pigeon(10, \"Beakman\")\n",
    "    small_pigeon = mom_pigeon.lay_eggs(\"Bobo\")  # returns a Pigeon\n",
    "    print(small_pigeon)\n",
    "\n",
    "\n",
    "if __name__ == \"__main__\":\n",
    "    main()\n"
   ]
  }
 ],
 "metadata": {
  "kernelspec": {
   "display_name": ".venv-github",
   "language": "python",
   "name": "python3"
  },
  "language_info": {
   "codemirror_mode": {
    "name": "ipython",
    "version": 3
   },
   "file_extension": ".py",
   "mimetype": "text/x-python",
   "name": "python",
   "nbconvert_exporter": "python",
   "pygments_lexer": "ipython3",
   "version": "3.10.12"
  }
 },
 "nbformat": 4,
 "nbformat_minor": 2
}

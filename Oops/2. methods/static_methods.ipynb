{
 "cells": [
  {
   "cell_type": "code",
   "execution_count": null,
   "metadata": {},
   "outputs": [],
   "source": [
    "# This means that a static method can be called without an object for that class \n",
    "# a static method cannot modify the state of an object as it is not bound to it.\n",
    "\n",
    "# Static method in python is associated with the class itself, not with any specific instance of the class\n",
    "\n",
    "# The main difference between a static method and a class method is:\n",
    "# Static method knows nothing about the class and deals with the parameters.\n",
    "# The class method works with the class since its parameter is always the class itself.\n",
    "\n",
    "# Static methods have limited use because they don't have access to the attributes of an instance of a class (like a regular method does), \n",
    "\n",
    "# they don't have access to the attributes of the class itself (like a class method does)."
   ]
  },
  {
   "cell_type": "code",
   "execution_count": null,
   "metadata": {},
   "outputs": [],
   "source": [
    "class Test:\n",
    "\n",
    "def add(x, y):\n",
    "    return x + y\n",
    "\n",
    "# create add static method\n",
    "Test.add = staticmethod(Test.add)\n",
    "\n",
    "print('The sum is:', Test.add(3, 6))\n"
   ]
  },
  {
   "cell_type": "code",
   "execution_count": null,
   "metadata": {},
   "outputs": [],
   "source": [
    "class Test:\n",
    "\n",
    "def add(x, y):\n",
    "    return x + y\n",
    "\n",
    "# create add static method\n",
    "Test.add = staticmethod(Test.add)\n",
    "\n",
    "print('The sum is:', Test.add(3, 6))\n"
   ]
  },
  {
   "cell_type": "code",
   "execution_count": null,
   "metadata": {},
   "outputs": [],
   "source": [
    "# Use Case:\n",
    "\n",
    "# Grouping Utility Functions to a Class\n",
    "\n",
    "class DateHelper:\n",
    "    @staticmethod\n",
    "    def is_weekend(day):\n",
    "        # Assuming `day` is an integer where 0 is Monday and 6 is Sunday\n",
    "        return day in [5, 6]\n",
    "\n",
    "# Usage\n",
    "print(DateHelper.is_weekend(5))\n",
    "print(DateHelper.is_weekend(2))\n"
   ]
  }
 ],
 "metadata": {
  "language_info": {
   "name": "python"
  }
 },
 "nbformat": 4,
 "nbformat_minor": 2
}

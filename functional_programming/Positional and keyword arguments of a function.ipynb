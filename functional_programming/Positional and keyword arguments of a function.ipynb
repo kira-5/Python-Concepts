{
 "cells": [
  {
   "attachments": {},
   "cell_type": "markdown",
   "metadata": {},
   "source": [
    "### Positional and keyword arguments of a function"
   ]
  },
  {
   "attachments": {},
   "cell_type": "markdown",
   "metadata": {},
   "source": [
    "#### *args\n",
    "- The keyword args means positional arguments.\n",
    "- The actual syntax is *. Calling them args is just a convention."
   ]
  },
  {
   "cell_type": "code",
   "execution_count": 1,
   "metadata": {},
   "outputs": [
    {
     "name": "stdout",
     "output_type": "stream",
     "text": [
      "('Eduactive', 1, 2, 3)\n"
     ]
    }
   ],
   "source": [
    "def func(*args):\n",
    "    if args:  # Optional positional arguments\n",
    "        print(args)\n",
    "\n",
    "\n",
    "func(\"Eduactive\", 1, 2, 3)\n"
   ]
  },
  {
   "attachments": {},
   "cell_type": "markdown",
   "metadata": {},
   "source": [
    "<span style='color:#68727B'>Use Case</span>"
   ]
  },
  {
   "cell_type": "code",
   "execution_count": 6,
   "metadata": {},
   "outputs": [
    {
     "name": "stdout",
     "output_type": "stream",
     "text": [
      "product: 6\n",
      "----------------------------------------------------------------------------------------------------\n",
      "product: 4096\n"
     ]
    }
   ],
   "source": [
    "# building a calculator which only performs multiplication.\n",
    "\n",
    "def multiply(num1,num2):\n",
    "    return num1*num2\n",
    " \n",
    "print(\"product:\", multiply(2,3)) \n",
    "\n",
    "# We have to change function as number of arguments get changed.\n",
    "\n",
    "print('--' * 50)\n",
    "\n",
    "# Here, we can use *args to solve this problem\n",
    "\n",
    "def multiply_numbers(*numbers):\n",
    "    product=1\n",
    "    for n in numbers:\n",
    "        product*=n\n",
    "    return product\n",
    " \n",
    "print(\"product:\",multiply_numbers(4,4,4,4,4,4)) \n"
   ]
  },
  {
   "attachments": {},
   "cell_type": "markdown",
   "metadata": {},
   "source": [
    "#### **kwargs\n",
    "- The keyword kwargs means keyword arguments.\n",
    "- The actual syntax is **. Calling them kwargs is just a convention."
   ]
  },
  {
   "cell_type": "code",
   "execution_count": 7,
   "metadata": {},
   "outputs": [
    {
     "name": "stdout",
     "output_type": "stream",
     "text": [
      "{'platform': 'Eduactive', 'quality_level': 5}\n",
      "----------------------------------------------------------------------------------------------------\n",
      "Sentence: Kwargs are awesome!\n"
     ]
    }
   ],
   "source": [
    "def func(**kwargs):\n",
    "    if kwargs:  # Optional keyword arguments\n",
    "        print(kwargs)\n",
    "\n",
    "\n",
    "func(platform=\"Eduactive\", quality_level=5)\n",
    "\n",
    "print('--' * 50)\n",
    "\n",
    "def make_sentence(**words):\n",
    "    sentence=''\n",
    "    for word in words.values():\n",
    "        sentence+=word\n",
    "    return sentence\n",
    " \n",
    "print('Sentence:', make_sentence(a='Kwargs ',b='are ', c='awesome!'))\n",
    "\n"
   ]
  },
  {
   "attachments": {},
   "cell_type": "markdown",
   "metadata": {},
   "source": [
    "##### Use *args and **kwargs in same function"
   ]
  },
  {
   "cell_type": "code",
   "execution_count": 4,
   "metadata": {},
   "outputs": [
    {
     "name": "stdout",
     "output_type": "stream",
     "text": [
      "Educative\n",
      "------------------------------------------------------------\n",
      "Eduactive\n",
      "(1, 2, 3)\n",
      "------------------------------------------------------------\n",
      "Eduactive\n",
      "(1, 2, 3)\n",
      "{'level': 'advanced', 'language': 'Python3'}\n"
     ]
    }
   ],
   "source": [
    "def func(fixed, *args, **kwargs):\n",
    "    print(fixed)\n",
    "    if args:  # Optional positional arguments\n",
    "        print(args)\n",
    "    if kwargs:  # Optional keyword arguments\n",
    "        print(kwargs)\n",
    "\n",
    "\n",
    "func(\"Educative\")\n",
    "\n",
    "print(\"--\" * 30)\n",
    "\n",
    "func(\"Eduactive\", 1, 2, 3)\n",
    "\n",
    "print(\"--\" * 30)\n",
    "\n",
    "func(\"Eduactive\", 1, 2, 3, level=\"advanced\", language=\"Python3\")\n"
   ]
  },
  {
   "attachments": {},
   "cell_type": "markdown",
   "metadata": {},
   "source": [
    "##### Packing and Unpacking Using *args and **kwargs in Python\n",
    "\n",
    "- The single and double asterisks that we use are called unpacking operators.\n",
    "- A single asterisk(*) is used on any iterable given by Python.\n",
    "- The double asterisk(**) is used to iterate over dictionaries."
   ]
  },
  {
   "cell_type": "code",
   "execution_count": 9,
   "metadata": {},
   "outputs": [
    {
     "name": "stdout",
     "output_type": "stream",
     "text": [
      "Audi BMW Lamborghini\n",
      "----------------------------------------------------------------------------------------------------\n",
      "{'React': 'Facebook', 'Angular': 'Google', 'dotNET': 'Microsoft'}\n"
     ]
    }
   ],
   "source": [
    "# unpacking using single asterisks\n",
    "carCompany = ['Audi','BMW','Lamborghini']\n",
    "print(*carCompany)\n",
    "\n",
    "print('--' * 50)\n",
    "\n",
    "# unpacking using double asterisks\n",
    "techStackOne = {\"React\": \"Facebook\", \"Angular\" : \"Google\"}\n",
    "techStackTwo = {\"dotNET\" : \"Microsoft\"}\n",
    "mergedStack = {**techStackOne, **techStackTwo}\n",
    "print(mergedStack)\n"
   ]
  }
 ],
 "metadata": {
  "kernelspec": {
   "display_name": ".venv-code",
   "language": "python",
   "name": "python3"
  },
  "language_info": {
   "codemirror_mode": {
    "name": "ipython",
    "version": 3
   },
   "file_extension": ".py",
   "mimetype": "text/x-python",
   "name": "python",
   "nbconvert_exporter": "python",
   "pygments_lexer": "ipython3",
   "version": "3.11.3"
  },
  "orig_nbformat": 4
 },
 "nbformat": 4,
 "nbformat_minor": 2
}

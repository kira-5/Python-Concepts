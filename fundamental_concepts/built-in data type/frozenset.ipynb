{
 "cells": [
  {
   "cell_type": "code",
   "execution_count": 33,
   "metadata": {},
   "outputs": [],
   "source": [
    "# frozenset is a built-in data type in Python, not a function.\n",
    "# Just like a regular set, but it cannot be modified after creation, hence \"frozen\". Once created, its elements cannot be added, removed, or modified."
   ]
  },
  {
   "cell_type": "code",
   "execution_count": 34,
   "metadata": {},
   "outputs": [
    {
     "name": "stdout",
     "output_type": "stream",
     "text": [
      "<class 'frozenset'>\n",
      "frozenset({1, 2, 3, 4})\n"
     ]
    }
   ],
   "source": [
    "hash_map = {1, 2, 3, 4}\n",
    "frozen_set = frozenset(hash_map)\n",
    "print(type(frozen_set))\n",
    "print(frozen_set)"
   ]
  },
  {
   "cell_type": "code",
   "execution_count": 35,
   "metadata": {},
   "outputs": [
    {
     "name": "stdout",
     "output_type": "stream",
     "text": [
      "1\n",
      "2\n",
      "3\n",
      "4\n",
      "[1, 2, 3, 4]\n"
     ]
    }
   ],
   "source": [
    "# Access value of Frozen Set\n",
    "\n",
    "# 1. Iteration\n",
    "for item in frozen_set:\n",
    "    print(item)\n",
    "\n",
    "# 2. List Conversion\n",
    "\n",
    "frozen_lst = list(frozen_set)\n",
    "print(frozen_lst)\n"
   ]
  },
  {
   "cell_type": "code",
   "execution_count": 36,
   "metadata": {},
   "outputs": [
    {
     "ename": "TypeError",
     "evalue": "'frozenset' object does not support item assignment",
     "output_type": "error",
     "traceback": [
      "\u001b[0;31m---------------------------------------------------------------------------\u001b[0m",
      "\u001b[0;31mTypeError\u001b[0m                                 Traceback (most recent call last)",
      "Cell \u001b[0;32mIn[36], line 8\u001b[0m\n\u001b[1;32m      6\u001b[0m \u001b[38;5;28;01mfor\u001b[39;00m i, value \u001b[38;5;129;01min\u001b[39;00m \u001b[38;5;28menumerate\u001b[39m(frozen_set, start\u001b[38;5;241m=\u001b[39m\u001b[38;5;241m0\u001b[39m):\n\u001b[1;32m      7\u001b[0m     \u001b[38;5;28;01mif\u001b[39;00m i \u001b[38;5;241m==\u001b[39m \u001b[38;5;241m0\u001b[39m:\n\u001b[0;32m----> 8\u001b[0m         \u001b[43mfrozen_set\u001b[49m\u001b[43m[\u001b[49m\u001b[43mi\u001b[49m\u001b[43m]\u001b[49m \u001b[38;5;241m=\u001b[39m \u001b[38;5;241m0\u001b[39m\n\u001b[1;32m      9\u001b[0m     \u001b[38;5;28mprint\u001b[39m(value)\n\u001b[1;32m     10\u001b[0m \u001b[38;5;28mprint\u001b[39m(frozen_set)\n",
      "\u001b[0;31mTypeError\u001b[0m: 'frozenset' object does not support item assignment"
     ]
    }
   ],
   "source": [
    "# Try to modify frozen_set\n",
    "\n",
    "# frozen_set.add(4)  # This will raise an AttributeError\n",
    "# frozen_set.remove(4)  # This will raise an AttributeError\n",
    "\n",
    "for i, value in enumerate(frozen_set, start=0):\n",
    "    if i == 0:\n",
    "        frozen_set[i] = 0\n",
    "    print(value)\n",
    "print(frozen_set)"
   ]
  },
  {
   "cell_type": "code",
   "execution_count": 37,
   "metadata": {},
   "outputs": [
    {
     "name": "stdout",
     "output_type": "stream",
     "text": [
      "frozenset({2, 4, 6})\n"
     ]
    }
   ],
   "source": [
    "# Modify Value: Only way to change by assign to a new variable\n",
    "\n",
    "modified_frozen_set = frozenset(element * 2 for element in existing_frozen_set)\n",
    "print(modified_frozen_set)  # Output: frozenset({2, 4, 6})\n"
   ]
  },
  {
   "cell_type": "code",
   "execution_count": 39,
   "metadata": {},
   "outputs": [
    {
     "name": "stdout",
     "output_type": "stream",
     "text": [
      "value\n",
      "{frozenset({1, 2}): 'value'}\n"
     ]
    }
   ],
   "source": [
    "# frozenset is useful in situations where you need an immutable set, such as when you want to use sets as keys in dictionaries or elements in other sets. Because frozenset is immutable, it can be safely used in these contexts without worrying about unintentional modifications.\n",
    "\n",
    "frozen_dict = {frozenset({1, 2}): 'value'}\n",
    "print(frozen_dict[frozenset({1, 2})])  # Output: 'value'\n",
    "print(frozen_dict)"
   ]
  },
  {
   "cell_type": "code",
   "execution_count": null,
   "metadata": {},
   "outputs": [],
   "source": []
  }
 ],
 "metadata": {
  "kernelspec": {
   "display_name": "Python 3",
   "language": "python",
   "name": "python3"
  },
  "language_info": {
   "codemirror_mode": {
    "name": "ipython",
    "version": 3
   },
   "file_extension": ".py",
   "mimetype": "text/x-python",
   "name": "python",
   "nbconvert_exporter": "python",
   "pygments_lexer": "ipython3",
   "version": "3.11.1"
  }
 },
 "nbformat": 4,
 "nbformat_minor": 2
}

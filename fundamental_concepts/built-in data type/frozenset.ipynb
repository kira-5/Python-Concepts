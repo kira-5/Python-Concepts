{
 "cells": [
  {
   "cell_type": "code",
   "execution_count": 12,
   "metadata": {},
   "outputs": [],
   "source": [
    "# https://www.scaler.com/topics/frozenset-in-python/"
   ]
  },
  {
   "cell_type": "code",
   "execution_count": 13,
   "metadata": {},
   "outputs": [],
   "source": [
    "# frozenset is a built-in data type in Python, not a function.\n",
    "# Just like a regular set, but it cannot be modified after creation, hence \"frozen\". Once created, its elements cannot be added, removed, or modified."
   ]
  },
  {
   "cell_type": "code",
   "execution_count": 14,
   "metadata": {},
   "outputs": [
    {
     "name": "stdout",
     "output_type": "stream",
     "text": [
      "<class 'frozenset'>\n",
      "frozenset({'b', 'a'})\n"
     ]
    }
   ],
   "source": [
    "tup = ('a',  'b')\n",
    "frozen_set = frozenset(tup)\n",
    "print(type(frozen_set))\n",
    "print(frozen_set)"
   ]
  },
  {
   "cell_type": "code",
   "execution_count": 15,
   "metadata": {},
   "outputs": [
    {
     "name": "stdout",
     "output_type": "stream",
     "text": [
      "<class 'frozenset'>\n",
      "frozenset({1, 2, 3, 4})\n"
     ]
    }
   ],
   "source": [
    "hash_map = {1, 2, 3, 4}\n",
    "frozen_set = frozenset(hash_map)\n",
    "print(type(frozen_set))\n",
    "print(frozen_set)"
   ]
  },
  {
   "cell_type": "code",
   "execution_count": 16,
   "metadata": {},
   "outputs": [
    {
     "name": "stdout",
     "output_type": "stream",
     "text": [
      "1\n",
      "2\n",
      "3\n",
      "4\n",
      "[1, 2, 3, 4]\n"
     ]
    }
   ],
   "source": [
    "# Access value of Frozen Set\n",
    "\n",
    "# 1. Iteration\n",
    "for item in frozen_set:\n",
    "    print(item)\n",
    "\n",
    "# 2. List Conversion\n",
    "\n",
    "frozen_lst = list(frozen_set)\n",
    "print(frozen_lst)\n"
   ]
  },
  {
   "cell_type": "code",
   "execution_count": 17,
   "metadata": {},
   "outputs": [
    {
     "ename": "TypeError",
     "evalue": "'frozenset' object does not support item assignment",
     "output_type": "error",
     "traceback": [
      "\u001b[1;31m---------------------------------------------------------------------------\u001b[0m",
      "\u001b[1;31mTypeError\u001b[0m                                 Traceback (most recent call last)",
      "Cell \u001b[1;32mIn[17], line 8\u001b[0m\n\u001b[0;32m      6\u001b[0m \u001b[38;5;28;01mfor\u001b[39;00m i, value \u001b[38;5;129;01min\u001b[39;00m \u001b[38;5;28menumerate\u001b[39m(frozen_set, start\u001b[38;5;241m=\u001b[39m\u001b[38;5;241m0\u001b[39m):\n\u001b[0;32m      7\u001b[0m     \u001b[38;5;28;01mif\u001b[39;00m i \u001b[38;5;241m==\u001b[39m \u001b[38;5;241m0\u001b[39m:\n\u001b[1;32m----> 8\u001b[0m         \u001b[43mfrozen_set\u001b[49m\u001b[43m[\u001b[49m\u001b[43mi\u001b[49m\u001b[43m]\u001b[49m \u001b[38;5;241m=\u001b[39m \u001b[38;5;241m0\u001b[39m\n\u001b[0;32m      9\u001b[0m     \u001b[38;5;28mprint\u001b[39m(value)\n\u001b[0;32m     10\u001b[0m \u001b[38;5;28mprint\u001b[39m(frozen_set)\n",
      "\u001b[1;31mTypeError\u001b[0m: 'frozenset' object does not support item assignment"
     ]
    }
   ],
   "source": [
    "# Try to modify frozen_set\n",
    "\n",
    "# frozen_set.add(4)  # This will raise an AttributeError\n",
    "# frozen_set.remove(4)  # This will raise an AttributeError\n",
    "\n",
    "for i, value in enumerate(frozen_set, start=0):\n",
    "    if i == 0:\n",
    "        frozen_set[i] = 0\n",
    "    print(value)\n",
    "print(frozen_set)"
   ]
  },
  {
   "cell_type": "code",
   "execution_count": null,
   "metadata": {},
   "outputs": [
    {
     "name": "stdout",
     "output_type": "stream",
     "text": [
      "frozenset({2, 4, 6})\n"
     ]
    }
   ],
   "source": [
    "# Modify Value: Only way to change by assign to a new variable\n",
    "\n",
    "modified_frozen_set = frozenset(element * 2 for element in existing_frozen_set)\n",
    "print(modified_frozen_set)  # Output: frozenset({2, 4, 6})\n"
   ]
  },
  {
   "cell_type": "markdown",
   "metadata": {},
   "source": [
    "##### Frozenset Operations"
   ]
  },
  {
   "cell_type": "code",
   "execution_count": 18,
   "metadata": {},
   "outputs": [
    {
     "name": "stdout",
     "output_type": "stream",
     "text": [
      "frozenset({1, 2, 3, 4})\n",
      "frozenset({1, 2, 3, 4, 5, 6})\n",
      "frozenset({3, 4})\n",
      "frozenset({1, 2})\n",
      "frozenset({1, 2, 5, 6})\n",
      "False\n",
      "False\n",
      "False\n"
     ]
    }
   ],
   "source": [
    "\n",
    "# Frozensets\n",
    "# initialize A and B\n",
    "A = frozenset([1, 2, 3, 4])\n",
    "B = frozenset([3, 4, 5, 6])\n",
    "C = frozenset([5, 6])\n",
    "\n",
    "# copying a frozenset\n",
    "C = A.copy() # Output: frozenset({1, 2, 3, 4})\n",
    "print(C)\n",
    "# union\n",
    "print(A.union(B)) # Output: frozenset({1, 2, 3, 4, 5, 6})\n",
    "# intersection\n",
    "print(A.intersection(B)) # Output: frozenset({3, 4})\n",
    "# difference\n",
    "print(A.difference(B)) # Output: frozenset({1, 2})\n",
    "# symmetric_difference\n",
    "print(A.symmetric_difference(B)) # Output: frozenset({1, 2, 5, 6})\n",
    "# isdisjoint() method\n",
    "print(A.isdisjoint(C))  # Output: True\n",
    "\n",
    "# issubset() method\n",
    "print(C.issubset(B))  # Output: True\n",
    "\n",
    "# issuperset() method\n",
    "print(B.issuperset(C))  # Output: True"
   ]
  },
  {
   "cell_type": "markdown",
   "metadata": {},
   "source": [
    "##### Use Case\n",
    "    - where we have to create a group of keys (or some other data) that we don't want the user to change, as frozenset doesn't allow changes."
   ]
  },
  {
   "cell_type": "code",
   "execution_count": 19,
   "metadata": {},
   "outputs": [
    {
     "name": "stdout",
     "output_type": "stream",
     "text": [
      "value\n",
      "{frozenset({1, 2}): 'value'}\n"
     ]
    }
   ],
   "source": [
    "# frozenset is useful in situations where you need an immutable set, such as when you want to use sets as keys in dictionaries or elements in other sets. Because frozenset is immutable, it can be safely used in these contexts without worrying about unintentional modifications.\n",
    "\n",
    "frozen_dict = {frozenset({1, 2}): 'value'}\n",
    "print(frozen_dict[frozenset({1, 2})])  # Output: 'value'\n",
    "print(frozen_dict)"
   ]
  },
  {
   "cell_type": "code",
   "execution_count": 20,
   "metadata": {},
   "outputs": [],
   "source": [
    "# Using frozenset as keys in a dictionary\n",
    "fruit_counts = {frozenset({'apple', 'banana', 'cherry'}): 3, frozenset({'orange', 'mango'}): 2}\n"
   ]
  },
  {
   "cell_type": "code",
   "execution_count": 21,
   "metadata": {},
   "outputs": [],
   "source": [
    "# Membership Testing: Frozensets can be used to efficiently test for membership of multiple elements in a set without modifying the original set.\n",
    "\n",
    "original_set = {'apple', 'banana', 'cherry'}\n",
    "if frozenset({'banana', 'apple'}) in original_set:\n",
    "    print(\"Found subset\")\n"
   ]
  },
  {
   "cell_type": "code",
   "execution_count": 22,
   "metadata": {},
   "outputs": [],
   "source": [
    "# Immutable Set Operations: Frozensets support set operations such as union, intersection, difference, and symmetric difference, making them useful for performing set operations on immutable collections of data.\n",
    "\n",
    "set1 = frozenset({1, 2, 3})\n",
    "set2 = frozenset({2, 3, 4})\n",
    "union = set1 | set2\n",
    "intersection = set1 & set2\n",
    "difference = set1 - set2\n"
   ]
  },
  {
   "cell_type": "code",
   "execution_count": 23,
   "metadata": {},
   "outputs": [],
   "source": [
    "# Storing Immutable Collections: Frozensets can be used to store collections of unique, hashable objects in a way that prevents accidental modification. This is useful when you need to ensure that a set of elements remains unchanged throughout your program.\n",
    "\n",
    "unique_numbers = frozenset({1, 2, 3, 4, 5})\n"
   ]
  }
 ],
 "metadata": {
  "kernelspec": {
   "display_name": "Python 3",
   "language": "python",
   "name": "python3"
  },
  "language_info": {
   "codemirror_mode": {
    "name": "ipython",
    "version": 3
   },
   "file_extension": ".py",
   "mimetype": "text/x-python",
   "name": "python",
   "nbconvert_exporter": "python",
   "pygments_lexer": "ipython3",
   "version": "3.12.2"
  }
 },
 "nbformat": 4,
 "nbformat_minor": 2
}

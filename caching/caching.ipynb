{
 "cells": [
  {
   "cell_type": "markdown",
   "metadata": {},
   "source": [
    "##### Dictionary-Based Caching"
   ]
  },
  {
   "cell_type": "code",
   "execution_count": 7,
   "metadata": {},
   "outputs": [
    {
     "name": "stdout",
     "output_type": "stream",
     "text": [
      "120\n"
     ]
    }
   ],
   "source": [
    "# Initialize an empty cache dictionary\n",
    "cache = {}\n",
    "\n",
    "# Function to calculate the factorial of a number\n",
    "def factorial(n):\n",
    "    if n in cache:\n",
    "        print(f\"cache:: {cache}\")\n",
    "        return cache[n]  # Return cached result if available\n",
    "\n",
    "    # Calculate factorial if not cached\n",
    "    result = 1\n",
    "    for i in range(1, n + 1):\n",
    "        result *= i\n",
    "\n",
    "    # Cache the result\n",
    "    cache[n] = result\n",
    "    return result\n",
    "\n",
    "# Example usage\n",
    "print(factorial(5))  # Calculates and caches factorial of 5\n"
   ]
  },
  {
   "cell_type": "code",
   "execution_count": null,
   "metadata": {},
   "outputs": [],
   "source": [
    "# Using Decorators\n",
    "\n",
    "def memoize(func):\n",
    "    cache = {}\n",
    "\n",
    "    def memoized_func(*args):\n",
    "        if args not in cache:\n",
    "            cache[args] = func(*args)\n",
    "        return cache[args]\n",
    "\n",
    "    return memoized_func\n",
    "\n",
    "\n",
    "@memoize\n",
    "def factorial(n):\n",
    "    return 1 if n == 0 else n * factorial(n - 1)\n",
    "\n",
    "\n",
    "print(factorial(5))"
   ]
  },
  {
   "cell_type": "markdown",
   "metadata": {},
   "source": [
    "##### JSON-Based Caching"
   ]
  },
  {
   "cell_type": "code",
   "execution_count": 5,
   "metadata": {},
   "outputs": [
    {
     "name": "stdout",
     "output_type": "stream",
     "text": [
      "120\n"
     ]
    }
   ],
   "source": [
    "# Using Decorators\n",
    "\n",
    "import json\n",
    "\n",
    "def memoize(func):\n",
    "    cache_file = 'cache.json'\n",
    "\n",
    "    try:\n",
    "        with open(cache_file, 'r') as f:\n",
    "            cache = json.load(f)\n",
    "    except FileNotFoundError:\n",
    "        cache = {}\n",
    "\n",
    "    def memoized_func(*args):\n",
    "        key = str(args[0])\n",
    "        if key not in cache:\n",
    "            result = func(*args)\n",
    "            cache[key] = result\n",
    "            with open(cache_file, 'w') as f:\n",
    "                json.dump(cache, f)\n",
    "        return cache[key]\n",
    "\n",
    "    return memoized_func\n",
    "\n",
    "\n",
    "\n",
    "@memoize\n",
    "def factorial(n):\n",
    "    return 1 if n == 0 else n * factorial(n - 1)\n",
    "\n",
    "\n",
    "print(factorial(5))"
   ]
  },
  {
   "cell_type": "code",
   "execution_count": 3,
   "metadata": {},
   "outputs": [
    {
     "name": "stdout",
     "output_type": "stream",
     "text": [
      "120\n"
     ]
    }
   ],
   "source": [
    "# Using Decorators\n",
    "\n",
    "from datetime import datetime, timedelta\n",
    "import json\n",
    "\n",
    "def memoize(func=None, maxsize=None, typed=None, ttl=None):\n",
    "    cache_file = 'cache.json'\n",
    "\n",
    "    try:\n",
    "        with open(cache_file, 'r') as f:\n",
    "            cache = json.load(f)\n",
    "    except FileNotFoundError:\n",
    "        cache = {}\n",
    "\n",
    "    def memoized_func(*args, **kwargs):\n",
    "        # key = args if typed else (args, frozenset(kwargs.items()))\n",
    "        key = str(args[0])\n",
    "        # key = str(key)  # Convert to string for key\n",
    "        if key not in cache:\n",
    "            result = func(*args, **kwargs)\n",
    "            cache[key] = {'result': result, 'time': str(datetime.now())}\n",
    "            with open(cache_file, 'w') as f:\n",
    "                json.dump(cache, f)\n",
    "        elif ttl and datetime.now() - cache[key]['time'] > timedelta(seconds=ttl):\n",
    "            del cache[key]\n",
    "            result = func(*args, **kwargs)\n",
    "            cache[key] = {'result': result, 'time': str(datetime.now())}\n",
    "            with open(cache_file, 'w') as f:\n",
    "                json.dump(cache, f)\n",
    "        return cache[key]['result']\n",
    "\n",
    "    return memoized_func\n",
    "\n",
    "\n",
    "\n",
    "@memoize\n",
    "def factorial(n):\n",
    "    return 1 if n == 0 else n * factorial(n - 1)\n",
    "\n",
    "\n",
    "print(factorial(5))"
   ]
  },
  {
   "cell_type": "markdown",
   "metadata": {},
   "source": [
    "##### Functools LRU Cache"
   ]
  },
  {
   "cell_type": "code",
   "execution_count": null,
   "metadata": {},
   "outputs": [],
   "source": [
    "from functools import lru_cache\n",
    "\n",
    "# With typed=True, you can now set the expiration time using the ttl (time to live) argument\n",
    "\n",
    "@lru_cache(maxsize=128, typed=True, ttl=60)\n",
    "def factorial(n):\n",
    "    return 1 if n == 0 else n * factorial(n - 1)\n",
    "\n",
    "# Test the cached factorial function\n",
    "print(factorial(5))  # Calls the function and caches the result"
   ]
  }
 ],
 "metadata": {
  "kernelspec": {
   "display_name": ".venv-python3.12.2",
   "language": "python",
   "name": "python3"
  },
  "language_info": {
   "codemirror_mode": {
    "name": "ipython",
    "version": 3
   },
   "file_extension": ".py",
   "mimetype": "text/x-python",
   "name": "python",
   "nbconvert_exporter": "python",
   "pygments_lexer": "ipython3",
   "version": "3.11.1"
  }
 },
 "nbformat": 4,
 "nbformat_minor": 2
}
